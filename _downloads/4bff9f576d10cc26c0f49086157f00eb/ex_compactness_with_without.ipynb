{
  "cells": [
    {
      "cell_type": "code",
      "execution_count": null,
      "metadata": {
        "collapsed": false
      },
      "outputs": [],
      "source": [
        "%matplotlib inline"
      ]
    },
    {
      "cell_type": "markdown",
      "metadata": {},
      "source": [
        "# Comparing the analysis with and without compactness criterion\n\nThis examples shows how to quickly compare the effects of the compactness criterion\non the results of the analysis of a 4-pulse DEER signal. \n"
      ]
    },
    {
      "cell_type": "code",
      "execution_count": null,
      "metadata": {
        "collapsed": false
      },
      "outputs": [],
      "source": [
        "import numpy as np\nimport matplotlib.pyplot as plt\nimport deerlab as dl"
      ]
    },
    {
      "cell_type": "code",
      "execution_count": null,
      "metadata": {
        "collapsed": false
      },
      "outputs": [],
      "source": [
        "# File location\npath = '../data/'\nfile = 'example_4pdeer_1.DTA'\n\n# Experimental parameters\ntau1 = 0.3      # First inter-pulse delay, \u03bcs\ntau2 = 4.0      # Second inter-pulse delay, \u03bcs\ndeadtime = 0.1  # Acquisition deadtime, \u03bcs\n\n# Load the experimental data\nt,Vexp = dl.deerload(path + file)\n\n# Pre-processing\nVexp = dl.correctphase(Vexp) # Phase correction\nVexp = Vexp/np.max(Vexp)     # Rescaling (aesthetic)\nt = t + deadtime             # Account for deadtime\n\n# Artifically truncate the signal \nVexp = Vexp[t<=3]\nt = t[t<=3]\n\n# Distance vector\nr = np.arange(1.5,7,0.05) # nm\n\n# Construct the model\nVmodel = dl.dipolarmodel(t,r, experiment=dl.ex_4pdeer(tau1,tau2, pathways=[1]))\ncompactness = dl.dipolarpenalty(Pmodel=None,r=r,type='compactness')\n\n# Fit the model to the data with compactness criterion\nresults_with = dl.fit(Vmodel,Vexp,penalties=compactness)\nprint(results_with)\n\n# Fit the model to the data without compactness criterion\nresults_without = dl.fit(Vmodel,Vexp)\nprint(results_without)"
      ]
    },
    {
      "cell_type": "code",
      "execution_count": null,
      "metadata": {
        "collapsed": false
      },
      "outputs": [],
      "source": [
        "# Define colors \ngreen = '#3cb4c6' \nred = '#f84862'\ncolors = [green,red]\nplt.figure(figsize=[10,7])\nfor n,results in enumerate([results_with, results_without]):\n\n    # Extract fitted dipolar signal\n    Vfit = results.model\n    Vci = results.modelUncert.ci(95)\n\n    # Extract fitted distance distribution\n    Pfit = results.P\n    Pci95 = results.PUncert.ci(95)\n    Pci50 = results.PUncert.ci(50)\n\n    # Extract the unmodulated contribution\n    Bfcn = lambda mod,conc: results.P_scale*(1-mod)*dl.bg_hom3d(t,conc,mod)\n    Bfit = Bfcn(results.mod,results.conc)\n    Bci = results.propagate(Bfcn).ci(95)\n\n    plt.subplot(2,2,n+1)\n    # Plot experimental and fitted data\n    plt.plot(t,Vexp,'.',color='grey',label='Data')\n    plt.plot(t,Vfit,linewidth=3,color=colors[n],label='Fit')\n    plt.fill_between(t,Vci[:,0],Vci[:,1],color=colors[n],alpha=0.3)\n    plt.plot(t,Bfit,'--',linewidth=3,color=colors[n],label='Unmodulated contribution')\n    plt.fill_between(t,Bci[:,0],Bci[:,1],color=colors[n],alpha=0.3)\n    plt.legend(frameon=False,loc='best')\n    plt.xlabel('Time $t$ (\u03bcs)')\n    plt.ylabel('$V(t)$ (arb.u.)')\n    plt.title('With compactness criterion' if n==0 else 'Without compactness criterion')\n    # Plot the distance distribution\n    plt.subplot(2,2,n+3)\n    plt.plot(r,Pfit,color=colors[n],linewidth=3,label='Fit')\n    plt.fill_between(r,Pci95[:,0],Pci95[:,1],alpha=0.3,color=colors[n],label='95%-Conf. Inter.',linewidth=0)\n    plt.fill_between(r,Pci50[:,0],Pci50[:,1],alpha=0.5,color=colors[n],label='50%-Conf. Inter.',linewidth=0)\n    plt.legend(frameon=False,loc='best')\n    plt.autoscale(enable=True, axis='both', tight=True)\n    plt.xlabel('Distance $r$ (nm)')\n    plt.ylabel('$P(r)$ (nm$^{-1}$)')\nplt.tight_layout()\nplt.show()"
      ]
    }
  ],
  "metadata": {
    "kernelspec": {
      "display_name": "Python 3",
      "language": "python",
      "name": "python3"
    },
    "language_info": {
      "codemirror_mode": {
        "name": "ipython",
        "version": 3
      },
      "file_extension": ".py",
      "mimetype": "text/x-python",
      "name": "python",
      "nbconvert_exporter": "python",
      "pygments_lexer": "ipython3",
      "version": "3.9.13"
    }
  },
  "nbformat": 4,
  "nbformat_minor": 0
}