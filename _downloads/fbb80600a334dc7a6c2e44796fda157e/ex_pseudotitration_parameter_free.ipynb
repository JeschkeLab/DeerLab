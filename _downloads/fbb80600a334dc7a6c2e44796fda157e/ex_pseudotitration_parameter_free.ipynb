{
  "cells": [
    {
      "cell_type": "code",
      "execution_count": null,
      "metadata": {
        "collapsed": false
      },
      "outputs": [],
      "source": [
        "%matplotlib inline"
      ]
    },
    {
      "cell_type": "markdown",
      "metadata": {},
      "source": [
        "\n# Analyzing pseudo-titration (dose-response) curves with non-parametric distributions \n\nHow to fit a pseudo-titration curve to multiple DEER datsets, using\nnon-parametric distance distributions.\n\nIn this example we will simulate a protein system in their states \nA (natural) and B (changed upon addition of a ligand L) given by\nthe chemical equilibrium  A + L <-> B.\n"
      ]
    },
    {
      "cell_type": "code",
      "execution_count": null,
      "metadata": {
        "collapsed": false
      },
      "outputs": [],
      "source": [
        "import deerlab as dl \nimport matplotlib.pyplot as plt \nimport numpy as np \ngreen = '#3cb4c6' \nred = '#f84862'\nviolet = '#4550e6'\n\ndef chemicalequilibrium(Kdis,L):\n    \"\"\"Prepare equilibrium of type: A + L <-> B\"\"\"\n    Ctot = 1 # total protein concentration, \u00b5M\n    Kb = 1/Kdis\n    xB = np.roots(np.squeeze([Kb, -(Kb*L + Kb*Ctot + 1), Kb*L]))\n    xB = xB[(xB<=1) & (xB>=0)]\n    return xB\n\nt1,V1 = np.load('../data/example_data_titration_1.npy')\nt2,V2 = np.load('../data/example_data_titration_2.npy')\nt3,V3 = np.load('../data/example_data_titration_3.npy')\nt4,V4 = np.load('../data/example_data_titration_4.npy')\nt5,V5 = np.load('../data/example_data_titration_5.npy')\n\nts = [t1,t2,t3,t4,t5]\nVs = [V1,V2,V3,V4,V5]\n\n# Total ligand concentrations used in experiments\nL = [0.3, 3, 10, 30, 300] # \u00b5M\n\n# Distance vector\nr = np.linspace(1.5,5.5,150)\n\n# Construct a non-parametric distance distribution that is a\n# linear combination of two non-parametric distributions\nPAmodel = dl.freedist(r)\nPBmodel = dl.freedist(r)\nPmodel = dl.lincombine(PAmodel,PBmodel,addweights=True)\n\n# Construct the dipolar models of the individual signals\nVmodels = [dl.dipolarmodel(t,r,Pmodel) for t in ts]\n\n# Create the global model\ntitrmodel = dl.merge(*Vmodels)\n# Make the two components of the distance distriution global\ntitrmodel = dl.link(titrmodel, \n                reftime = [f'reftime_{n+1}' for n in range(len(Vs))],\n                P_1 = [f'P_1_{n+1}' for n in range(len(Vs))],\n                P_2 = [f'P_2_{n+1}' for n in range(len(Vs))]\n                )   \ntitrmodel.reftime.set(par0=0, lb=-0.1, ub=0.2)\n\n# Functionalize the chemical equilibrium model\ntitrmodel.addnonlinear('Kdis',lb=3,ub=7,par0=5,description='Dissociation constant')\n\ntitrmodel = dl.relate(titrmodel, \n            weight_2_1 = lambda weight_1_1: 1-weight_1_1, weight_1_1 = lambda Kdis: chemicalequilibrium(Kdis,L[0]),\n            weight_2_2 = lambda weight_1_2: 1-weight_1_2, weight_1_2 = lambda Kdis: chemicalequilibrium(Kdis,L[1]),\n            weight_2_3 = lambda weight_1_3: 1-weight_1_3, weight_1_3 = lambda Kdis: chemicalequilibrium(Kdis,L[2]),\n            weight_2_4 = lambda weight_1_4: 1-weight_1_4, weight_1_4 = lambda Kdis: chemicalequilibrium(Kdis,L[3]),\n            weight_2_5 = lambda weight_1_5: 1-weight_1_5, weight_1_5 = lambda Kdis: chemicalequilibrium(Kdis,L[4]))\n\n# Impose compactness upon the combined shape of the distribution\nPshape =  dl.lincombine(PAmodel,PBmodel)\ncompactness_penalty = dl.dipolarpenalty(Pshape,r,'compactness')\ncompactness_penalty.weight.set(ub=1e7)\ncompactness_penalty.weight.freeze(0.1) # Remove this line for automated optimization\n\n\n# Fit the model to the data\nresults = dl.fit(titrmodel,Vs,regparam=0.3,weights=[1]*len(Vs),ftol=1e-4,penalties=compactness_penalty)"
      ]
    },
    {
      "cell_type": "code",
      "execution_count": null,
      "metadata": {
        "collapsed": false
      },
      "outputs": [],
      "source": [
        "# Evaluate the dose-response curve at the fit with confidence bands\nxAfcn = lambda Kdis: np.squeeze(np.array([1-chemicalequilibrium(Kdis,Ln) for Ln in L]))\nxBfcn = lambda Kdis: np.squeeze(np.array([chemicalequilibrium(Kdis,Ln) for Ln in L]))\nxAfit = xAfcn(results.Kdis)\nxBfit = xBfcn(results.Kdis)\nxAci = results.propagate(xAfcn,lb=np.zeros_like(L),ub=np.ones_like(L)).ci(95)\nxBci = results.propagate(xBfcn,lb=np.zeros_like(L),ub=np.ones_like(L)).ci(95)\n\n# Plot the dose-reponse curve\nplt.plot(L,xAfit,'-o',color=green)\nplt.fill_between(L,xAci[:,0],xAci[:,1],alpha=0.5,color=green)\nplt.plot(L,xBfit,'-o',color=red)\nplt.fill_between(L,xBci[:,0],xBci[:,1],alpha=0.5,color=red)\nplt.xscale('log')\nplt.xlabel('Ligand concentration (\u03bcM)')\nplt.ylabel('Molar fraction')\nplt.legend(['State A (natural)','State B (ligand)'],frameon=False,loc='best')\nplt.title(r'$K_\\mathrm{dis}$'+f' = {results.Kdis:.2f} ({results.KdisUncert.ci(95)[0]:.2f}-{results.KdisUncert.ci(95)[1]:.2f})'+' \u00b5M$^{-1}$')\nplt.autoscale(enable=True, axis='both', tight=True)\nplt.show() \n\n# Plot the fitted signals and distance distributions\nplt.figure(figsize=[10,10])\n\nplt.subplot(121)\nfor n,(t,Vexp,Vfit) in enumerate(zip(ts,Vs,results.model)):\n    plt.plot(t,n/2 + Vexp,'.',color='grey')\n    plt.plot(t,n/2 + Vfit,color=violet,linewidth=2)\n    plt.text(0.2,n/2 + np.max(Vfit),f'{L[n]} \u00b5M')\nplt.legend(['Data','Fit'],frameon=False,loc='best')\nplt.xlabel('Time $t$ (\u03bcs)')\nplt.ylabel('$V(t)$ (arb.u.)')\n\nplt.subplot(122)\nfor n,(xA,xB) in enumerate(zip(xAfit,xBfit)): \n\n    Pfit = Pmodel(P_1=results.P_1,P_2=results.P_2,weight_1=xA,weight_2=xB)\n    Pfit /= np.trapz(Pfit,r)\n    if n>1: label=None\n    plt.plot(r,2*n + Pfit,'k',label='Total contribution' if n<1 else None)\n    plt.fill(r,2*n + xA*results.P_1,color=green,alpha=0.5,label='State A (natural)' if n<1 else None)\n    plt.fill(r,2*n + xB*results.P_2,color=red,alpha=0.5,label='State B (ligand)' if n<1 else None)\n\nplt.legend(frameon=False,loc='best')\nplt.ylabel('$P(r)$')\nplt.xlabel('Distance $r$ (nm)')\nplt.show() \n\n\n# %%"
      ]
    }
  ],
  "metadata": {
    "kernelspec": {
      "display_name": "Python 3",
      "language": "python",
      "name": "python3"
    },
    "language_info": {
      "codemirror_mode": {
        "name": "ipython",
        "version": 3
      },
      "file_extension": ".py",
      "mimetype": "text/x-python",
      "name": "python",
      "nbconvert_exporter": "python",
      "pygments_lexer": "ipython3",
      "version": "3.9.15"
    }
  },
  "nbformat": 4,
  "nbformat_minor": 0
}