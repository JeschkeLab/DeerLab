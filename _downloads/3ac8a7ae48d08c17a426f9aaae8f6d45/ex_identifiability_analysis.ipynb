{
  "cells": [
    {
      "cell_type": "markdown",
      "metadata": {},
      "source": [
        "# Identifiability analysis of a 4-pulse DEER signal via the profile analysis method\n\nHow to use the profile analysis method to asses whether the 4-pulse DEER model parameters \nare identifiable (unique) for a given experimental signal.  \n"
      ]
    },
    {
      "cell_type": "code",
      "execution_count": null,
      "metadata": {
        "collapsed": false
      },
      "outputs": [],
      "source": [
        "import numpy as np\nimport matplotlib.pyplot as plt\nimport deerlab as dl\nfrom deerlab.constants import D\ngreen = '#3cb4c6' \nred = '#f84862'"
      ]
    },
    {
      "cell_type": "code",
      "execution_count": null,
      "metadata": {
        "collapsed": false
      },
      "outputs": [],
      "source": [
        "# File location\npath = '../data/'\nfile = 'example_4pdeer_1.DTA'\n\n# Experimental parameters\ntau1 = 0.3      # First inter-pulse delay, \u03bcs\ntau2 = 4.0      # Second inter-pulse delay, \u03bcs\ntmin = 0.1      # Start time, \u03bcs\n\n# Load the experimental data\nt,Vexp = dl.deerload(path + file)\n\n# Pre-processing\nVexp = dl.correctphase(Vexp) # Phase correction\nVexp = Vexp/np.max(Vexp)     # Rescaling (aesthetic)\nt = t - t[0]                 # Account for zerotime\nt = t + tmin\n\n# Truncate the signal\nVexp_truncated = Vexp[t<=2]\nt_truncated = t[t<=2]\n\n# Distance vector\nr = np.arange(2,7,0.05) # nm\n\n# Construct the model\nVmodel = dl.dipolarmodel(t,r, experiment=dl.ex_4pdeer(tau1,tau2, pathways=[1]))\nVmodel_truncated = dl.dipolarmodel(t_truncated,r)\n\n# Compute uncertainty with the likelihood profile method for the spin concentration and modulation depth parameters\ngrids = {\n    'conc': np.linspace(1,250,20),\n    'mod': np.linspace(0.25,0.35,20),\n}\n\nprofile_long = dl.profile_analysis(Vmodel,Vexp, parameters=['conc','mod'], grids=grids) \nprofile_short = dl.profile_analysis(Vmodel_truncated,Vexp_truncated, parameters=['conc','mod'], grids=grids)"
      ]
    },
    {
      "cell_type": "code",
      "execution_count": null,
      "metadata": {
        "collapsed": false
      },
      "outputs": [],
      "source": [
        "plt.figure(figsize=[8,4])\nfor n,param in enumerate(['conc','mod']):\n    plt.subplot(1,2,n+1)\n    for profile_uq,color in zip([profile_long,profile_short],[green,red]):\n        profile = profile_uq[param].profile\n        threshold = profile_uq[param].threshold(0.95)\n        plt.plot(profile['x'],profile['y']-threshold,'-',color=color, linewidth=3)\n        plt.hlines(0,min(profile['x']),max(profile['x']), linewidth=3, linestyles='--',color='grey',alpha=0.6)\n    plt.autoscale(True,'both',tight=True)\n    plt.ylim([1.1*(np.min(profile['y'])-threshold),1.5*threshold])  \n    plt.xlabel(f'{getattr(Vmodel,param).description} ({getattr(Vmodel,param).unit})')\n    plt.ylabel('Profile objective function')\n    plt.legend(['Profile (long trace)','Threshold','Profile (short trace)'],frameon=False,loc='best')\n\nplt.tight_layout()\nplt.show()"
      ]
    }
  ],
  "metadata": {
    "kernelspec": {
      "display_name": "Python 3",
      "language": "python",
      "name": "python3"
    },
    "language_info": {
      "codemirror_mode": {
        "name": "ipython",
        "version": 3
      },
      "file_extension": ".py",
      "mimetype": "text/x-python",
      "name": "python",
      "nbconvert_exporter": "python",
      "pygments_lexer": "ipython3",
      "version": "3.10.12"
    }
  },
  "nbformat": 4,
  "nbformat_minor": 0
}