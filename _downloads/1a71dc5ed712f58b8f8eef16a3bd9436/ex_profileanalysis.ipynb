{
  "cells": [
    {
      "cell_type": "code",
      "execution_count": null,
      "metadata": {
        "collapsed": false
      },
      "outputs": [],
      "source": [
        "%matplotlib inline"
      ]
    },
    {
      "cell_type": "markdown",
      "metadata": {},
      "source": [
        "# Profile analysis in routine analysis\n\nHow to obtain objective function profiles for the non-linear parameters of a model. \n"
      ]
    },
    {
      "cell_type": "code",
      "execution_count": null,
      "metadata": {
        "collapsed": false
      },
      "outputs": [],
      "source": [
        "import numpy as np\nimport matplotlib.pyplot as plt\nimport deerlab as dl"
      ]
    },
    {
      "cell_type": "code",
      "execution_count": null,
      "metadata": {
        "collapsed": false
      },
      "outputs": [],
      "source": [
        "# File location\npath = '../data/'\nfile = 'example_4pdeer_1.DTA'\n\n# Experimental parameters\ntau1 = 0.3      # First inter-pulse delay, \u03bcs\ntau2 = 4.0      # Second inter-pulse delay, \u03bcs\ndeadtime = 0.1  # Acquisition deadtime, \u03bcs\n\n# Load the experimental data\nt,Vexp = dl.deerload(path + file)\n\n# Pre-processing\nVexp = dl.correctphase(Vexp) # Phase correction\nVexp = Vexp/np.max(Vexp)     # Rescaling (aesthetic)\nt = t + deadtime             # Account for deadtime\n\n# Distance vector\nr = np.arange(2,5,0.05) # nm\n\n# Construct the model\nVmodel = dl.dipolarmodel(t,r, experiment=dl.ex_4pdeer(tau1,tau2, pathways=[1]))\n\n# Fit the model to the data\nresults = dl.fit(Vmodel,Vexp)\n\n# Print results summary\nprint(results)\n\n# Compute uncertainty with the likelihood profile method for the spin concentration and modulation depth parameters\nprofile_uq = dl.profile_analysis(Vmodel,Vexp,samples=20, parameters=['conc','mod'])"
      ]
    },
    {
      "cell_type": "markdown",
      "metadata": {},
      "source": [
        "Extract fitted dipolar signal\n\n"
      ]
    },
    {
      "cell_type": "code",
      "execution_count": null,
      "metadata": {
        "collapsed": false
      },
      "outputs": [],
      "source": [
        "Vfit = results.model\nVci = results.modelUncert.ci(95)\n\n# Extract fitted distance distribution\nPfit = results.P\nPci95 = results.PUncert.ci(95)\nPci50 = results.PUncert.ci(50)\n\n# Extract the unmodulated contribution\nBfcn = lambda mod,conc,reftime: results.P_scale*(1-mod)*dl.bg_hom3d(t-reftime,conc,mod)\nBfit = results.evaluate(Bfcn)\nBci = results.propagate(Bfcn).ci(95)\n\nplt.figure(figsize=[9,7])\nviolet = '#4550e6'\nplt.subplot(221)\n# Plot experimental data\nplt.plot(t,Vexp,'.',color='grey',label='Data')\n# Plot the fitted signal \nplt.plot(t,Vfit,linewidth=3,label='Bootstrap median',color=violet)\nplt.fill_between(t,Vci[:,0],Vci[:,1],alpha=0.3,color=violet)\nplt.plot(t,Bfit,'--',linewidth=3,color=violet,label='Unmodulated contribution')\nplt.fill_between(t,Bci[:,0],Bci[:,1],alpha=0.3,color=violet)\nplt.legend(frameon=False,loc='best')\nplt.xlabel('Time $t$ (\u03bcs)')\nplt.ylabel('$V(t)$ (arb.u.)')\n# Plot the distance distribution\nplt.subplot(222)\nplt.plot(r,Pfit,linewidth=3,label='Bootstrap median',color=violet)\nplt.fill_between(r,Pci95[:,0],Pci95[:,1],alpha=0.3,color=violet,label='95%-Conf. Inter.',linewidth=0)\nplt.fill_between(r,Pci50[:,0],Pci50[:,1],alpha=0.5,color=violet,label='50%-Conf. Inter.',linewidth=0)\nplt.legend(frameon=False,loc='best')\nplt.autoscale(enable=True, axis='both', tight=True)\nplt.xlabel('Distance $r$ (nm)')\nplt.ylabel('$P(r)$ (nm$^{-1}$)')\n\nfor n,param in enumerate(['conc','mod']):\n    plt.subplot(2,2,2+n+1)\n    profile = profile_uq[param].profile\n    threshold = profile_uq[param].threshold(0.95)\n    plt.plot(profile['x'],profile['y'] - threshold,'-',color=violet, linewidth=3, label='Profile')\n    plt.hlines(0,min(profile['x']),max(profile['x']), linewidth=3, linestyles='--',color='grey',alpha=0.6, label='Threshold')\n    plt.autoscale(True,'both',tight=True)\n    plt.ylim([7*np.min(profile['y'] - threshold),1e8])  \n    plt.xlabel(f'{getattr(Vmodel,param).description} ({getattr(Vmodel,param).unit})')\n    plt.ylabel('Profile objective function')\n    plt.legend(frameon=False,loc='best')\n\nplt.tight_layout()\nplt.show()"
      ]
    }
  ],
  "metadata": {
    "kernelspec": {
      "display_name": "Python 3",
      "language": "python",
      "name": "python3"
    },
    "language_info": {
      "codemirror_mode": {
        "name": "ipython",
        "version": 3
      },
      "file_extension": ".py",
      "mimetype": "text/x-python",
      "name": "python",
      "nbconvert_exporter": "python",
      "pygments_lexer": "ipython3",
      "version": "3.9.15"
    }
  },
  "nbformat": 4,
  "nbformat_minor": 0
}