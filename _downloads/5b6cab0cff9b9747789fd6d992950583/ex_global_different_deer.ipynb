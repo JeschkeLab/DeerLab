{
  "cells": [
    {
      "cell_type": "code",
      "execution_count": null,
      "metadata": {
        "collapsed": false
      },
      "outputs": [],
      "source": [
        "%matplotlib inline"
      ]
    },
    {
      "cell_type": "markdown",
      "metadata": {},
      "source": [
        "# Global fitting of multiple different DEER signals\n\nHow to fit multiple signals from different DEER experiments to a model with a non-parametric\ndistribution and a homogeneous background, using Tikhonov regularization.\n"
      ]
    },
    {
      "cell_type": "code",
      "execution_count": null,
      "metadata": {
        "collapsed": false
      },
      "outputs": [],
      "source": [
        "import numpy as np\nimport matplotlib.pyplot as plt\nimport deerlab as dl"
      ]
    },
    {
      "cell_type": "code",
      "execution_count": null,
      "metadata": {
        "collapsed": false
      },
      "outputs": [],
      "source": [
        "# File location\npath = '../data/'\nfile4p = 'example_4pdeer_2.DTA'\nfile5p = 'example_5pdeer_2.DTA'\n\n# Experimental parameters (4pDEER)\ntau1_4p = 0.5               # First inter-pulse delay, \u03bcs\ntau2_4p = 3.5               # Second inter-pulse delay, \u03bcs\ndeadtime_4p = 0.1           # Acquisition deadtime, \u03bcs\n# Experimental parameters (reversed 5pDEER)\ntau1_5p = 2.9               # First inter-pulse delay, \u03bcs\ntau2_5p = 3.3               # Second inter-pulse delay, \u03bcs\ntau3_5p = 0.3               # Third inter-pulse delay, \u03bcs\ndeadtime_5p = 0.1           # Acquisition deadtime, \u03bcs\n\n# Load the experimental data (4pDEER)\nt4p,V4p = dl.deerload(path + file4p)\nV4p = dl.correctphase(V4p)    # Phase correction\nV4p = V4p/np.max(V4p)         # Rescaling (aesthetic)\nt4p = t4p + deadtime_4p       # Account for deadtime\n# Load the experimental data (reversed 5pDEER)\nt5p,V5p = dl.deerload(path + file5p)\nV5p = dl.correctphase(V5p)    # Phase correction\nV5p = V5p/np.max(V5p)         # Rescaling (aesthetic)\nt5p = t5p + deadtime_5p       # Account for deadtime\n\n# Run fit\nr = np.arange(2.5,6,0.05)\n\n# Construct the individual dipolar signal models\nV4pmodel = dl.dipolarmodel(t4p,r,experiment=dl.ex_4pdeer(tau1=tau1_4p,tau2=tau2_4p,pathways=[1,2,3]))\nV5pmodel = dl.dipolarmodel(t5p,r,experiment=dl.ex_rev5pdeer(tau1=tau1_5p,tau2=tau2_5p,tau3=tau3_5p,pathways=[1,2]))\n\n# Make the joint model with the distribution as a global parameters\nglobalmodel = dl.merge(V4pmodel,V5pmodel,addweights=True)  \nglobalmodel = dl.link(globalmodel, P = ['P_1','P_2'])\n\n# Fit the model to the data (with fixed regularization parameter)\nresults = dl.fit(globalmodel,[V4p,V5p], weights=[1,1])"
      ]
    },
    {
      "cell_type": "code",
      "execution_count": null,
      "metadata": {
        "collapsed": false
      },
      "outputs": [],
      "source": [
        "plt.figure(figsize=[10,7])\nviolet = '#4550e6'\n\n# Extract fitted distance distribution\nPfit = results.P\nPci95 = results.PUncert.ci(95)\nPci50 = results.PUncert.ci(50)\nfor n,(t,V) in enumerate(zip([t4p,t5p],[V4p,V5p])):\n\n    # Extract fitted dipolar signal\n    Vfit = results.model[n]\n    Vci = results.modelUncert[n].ci(95)\n\n    plt.subplot(2,2,1+n*2)\n    # Plot experimental data\n    plt.plot(t,V,'.',color='grey',label='Data')\n    # Plot the fitted signal \n    plt.plot(t,Vfit,linewidth=3,color=violet,label='Fit')\n    plt.fill_between(t,Vci[:,0],Vci[:,1],color=violet,alpha=0.3)\n    plt.legend(frameon=False,loc='best')\n    plt.xlabel('Time $t$ (\u03bcs)')\n    plt.ylabel('$V(t)$ (arb.u.)')\n\n# Plot the distance distribution\nplt.subplot(1,2,2)\nplt.plot(r,Pfit,linewidth=3,color=violet,label='Fit')\nplt.fill_between(r,Pci95[:,0],Pci95[:,1],alpha=0.3,color=violet,label='95%-Conf. Inter.',linewidth=0)\nplt.fill_between(r,Pci50[:,0],Pci50[:,1],alpha=0.5,color=violet,label='50%-Conf. Inter.',linewidth=0)\nplt.legend(frameon=False,loc='best')\nplt.autoscale(enable=True, axis='both', tight=True)\nplt.xlabel('Distance $r$ (nm)')\nplt.ylabel('$P(r)$ (nm$^{-1}$)')\nplt.tight_layout()\nplt.show()"
      ]
    }
  ],
  "metadata": {
    "kernelspec": {
      "display_name": "Python 3",
      "language": "python",
      "name": "python3"
    },
    "language_info": {
      "codemirror_mode": {
        "name": "ipython",
        "version": 3
      },
      "file_extension": ".py",
      "mimetype": "text/x-python",
      "name": "python",
      "nbconvert_exporter": "python",
      "pygments_lexer": "ipython3",
      "version": "3.9.15"
    }
  },
  "nbformat": 4,
  "nbformat_minor": 0
}