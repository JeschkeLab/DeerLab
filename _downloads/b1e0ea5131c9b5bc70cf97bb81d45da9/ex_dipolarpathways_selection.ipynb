{
  "cells": [
    {
      "cell_type": "code",
      "execution_count": null,
      "metadata": {
        "collapsed": false
      },
      "outputs": [],
      "source": [
        "%matplotlib inline"
      ]
    },
    {
      "cell_type": "markdown",
      "metadata": {},
      "source": [
        "\n# Dipolar pathways model selection\n\nAn example on how to select the number of dipolar pathways to include in the model\nbased on the Akaike information criterion.\n"
      ]
    },
    {
      "cell_type": "code",
      "execution_count": null,
      "metadata": {
        "collapsed": false
      },
      "outputs": [],
      "source": [
        "# Import the required libraries\nimport numpy as np\nimport matplotlib.pyplot as plt\nfrom matplotlib.gridspec import GridSpec\nfrom mpl_toolkits.axes_grid1.inset_locator import inset_axes, InsetPosition\nimport deerlab as dl"
      ]
    },
    {
      "cell_type": "code",
      "execution_count": null,
      "metadata": {
        "collapsed": false
      },
      "outputs": [],
      "source": [
        "# File location\npath = '../data/'\nfile = 'example_4pdeer_2.DTA'\n\n# Experimental parameters\ntau1 = 0.5      # First inter-pulse delay, \u03bcs\ntau2 = 3.5      # Second inter-pulse delay, \u03bcs\ndeadtime = 0.1  # Acquisition deadtime, \u03bcs\n\n# Load the experimental data\nt,Vexp = dl.deerload(path + file)\n\n# Pre-processing\nVexp = dl.correctphase(Vexp) # Phase correction\nVexp = Vexp/np.max(Vexp)     # Rescaling (aesthetic)\nt = t + deadtime             # Account for deadtime\n\n# Construct the distance vector\nr = np.arange(2,5,0.05)\n\n# 4-pulse DEER can have up to four different dipolar pathways\nNmax = 4\n\n# Create the 4-pulse DEER signal models with increasing number of pathways\nVmodels = [dl.dipolarmodel(t, r, experiment=dl.ex_4pdeer(tau1,tau2,pathways=np.arange(n+1)+1)) for n in range(Nmax)]\n\n# Fit the individual models to the data\nfits = [[] for _ in range(Nmax)]\nfor n,Vmodel in enumerate(Vmodels): \n    fits[n] = dl.fit(Vmodel,Vexp)"
      ]
    },
    {
      "cell_type": "code",
      "execution_count": null,
      "metadata": {
        "collapsed": false
      },
      "outputs": [],
      "source": [
        "# Extract the values of the Akaike information criterion for each fit\naic = np.array([fit.stats['aic'] for fit in fits])\n# Compute the relative difference in AIC\naic = aic - aic.min() + 1 # ...add plus one for log-scale \n\n# Plotting \ncolors = ['tab:blue','tab:orange','tab:green','tab:red']\nfig = plt.figure(figsize=[8,9])\ngs = GridSpec(1, 3, figure=fig)\nax1 = fig.add_subplot(gs[0, :-1])\nfor n in range(len(Vmodels)):\n    # Get the fits of the dipolar signal models\n    Vfit = fits[n].model\n    # Get the confidence intervals of the dipolar signal models\n    Vci = fits[n].modelUncert.ci(95)\n    # Plot the experimental data\n    ax1.plot(t,n/2+Vexp,'.',color='grey')\n    # Plot the dipolar signal fits and their confidence bands\n    ax1.plot(t,n/2 + Vfit,label=f'{1+n}',linewidth=1.5,color=colors[n])\n    ax1.fill_between(t,n/2+Vci[:,0],n/2+Vci[:,1],alpha=0.3,color=colors[n])\n\n# Plot the distance distributions as insets\nfor n in range(Nmax):\n    # Get the distance distribution and its confidence intervals\n    Pfit = fits[n].P\n    Pci = fits[n].PUncert.ci(95)\n    # Setup the inset plot\n    axins = inset_axes(ax1,width=\"30%\", height=\"30%\", loc='upper left')\n    ip = InsetPosition(ax1,[0.35, 0.17+0.24*n, 0.6, 0.1])\n    axins.set_axes_locator(ip)\n    axins.yaxis.set_ticklabels([])\n    axins.yaxis.set_visible(False)\n    # Plot the distance distributions and their confidence bands\n    axins.plot(r,Pfit,color=colors[n])    \n    axins.fill_between(r,Pci[:,0],Pci[:,1],alpha=0.4,color=colors[n])\n    axins.set_xlabel('r (nm)')\n\n# Plot the difference in AIC for each fit\nax2 = fig.add_subplot(gs[0,-1])\nax2.plot(aic,np.arange(Nmax),'k--',alpha=0.3)\nfor n in range(Nmax):\n    ax2.semilogx(aic[n],n,'o',markersize=10)\nax2.yaxis.set_visible(False)\n\n# Axes settings\nax1.set_ylabel('V(t) (arb.u.)')\nax1.set_xlabel('Time $t$ [\u03bcs]')\nax1.autoscale(enable=True, axis='x', tight=True)\nax2.set_xlabel('$\\Delta$AIC')\nax2.yaxis.set_ticklabels([])\n\n# Legend settings\nhandles, labels = ax1.get_legend_handles_labels()\nfig.legend(handles, labels, title='Number of dipolar pathways', frameon=False,\n            loc='upper center',ncol=Nmax,bbox_to_anchor=(0.55, 0.95))\nplt.show()"
      ]
    }
  ],
  "metadata": {
    "kernelspec": {
      "display_name": "Python 3",
      "language": "python",
      "name": "python3"
    },
    "language_info": {
      "codemirror_mode": {
        "name": "ipython",
        "version": 3
      },
      "file_extension": ".py",
      "mimetype": "text/x-python",
      "name": "python",
      "nbconvert_exporter": "python",
      "pygments_lexer": "ipython3",
      "version": "3.9.15"
    }
  },
  "nbformat": 4,
  "nbformat_minor": 0
}