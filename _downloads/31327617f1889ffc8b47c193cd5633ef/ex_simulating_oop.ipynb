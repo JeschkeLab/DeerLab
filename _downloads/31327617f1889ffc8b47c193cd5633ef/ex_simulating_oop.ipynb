{
  "cells": [
    {
      "cell_type": "code",
      "execution_count": null,
      "metadata": {
        "collapsed": false
      },
      "outputs": [],
      "source": [
        "%matplotlib inline"
      ]
    },
    {
      "cell_type": "markdown",
      "metadata": {},
      "source": [
        "\n# Simulating polarization effects on low-temperature DEER \n\nAn example on how to simulate the effects of low-temperatures on DEER signals due to the \nbreaking of the high-temperature limit and the introduction of out-of-phase contributions\n(to emulate the simulations by [Sweger et al.](https://doi.org/10.5194/mr-3-101-2022)).\n\nThis example simulates such signals at two different temperatures assuming a two-pathway \n4-pulse DEER model, with the same refocusing times, opposite-sign harmonics, and a difference\nin amplitude given by the spin polarization. \n"
      ]
    },
    {
      "cell_type": "code",
      "execution_count": null,
      "metadata": {
        "collapsed": false
      },
      "outputs": [],
      "source": [
        "import numpy as np \nimport matplotlib.pyplot as plt \nimport deerlab as dl \nviolet = '#4550e6'\n\n# Boltzmann constant\nkB = 1.38064852e-23 # J/K (CODATA 2018)\n\u03bcB = 9.2740100783e-24  # Bohr magneton, J/T (CODATA 2018)\nge = 2.00231930436256   # Free-electron g factor (CODATA 2018)\n\n# Define effective dipolar evolution time vector\nt = np.linspace(-7,7,500)\n# Define distance range vector\nr = np.linspace(2,6,200) \n# Simulate distance distribution\nP = dl.dd_skewgauss(r,center=4.3,std=0.3,skew=20)\n\n# Simulation parameters\nmoddepth = 0.4\nconc = 190 # \u03bcM\ntref = 0 # \u03bcs\nBfield = 1248 # mT\nBfield = Bfield/1000  # mT->T\ntemperatures = [50,8] # K\n\n\nfig, axs = plt.subplots(nrows=2, ncols=2, sharex=True)\nfor n,T in enumerate(temperatures):\n\n    # Calculate the spin polarization\n    polarization = np.tanh(ge*\u03bcB*Bfield/(2*kB*T))\n\n    \u03bb1 = moddepth/2-polarization/2\n    \u03bb2 = moddepth/2+polarization/2\n    \n    # Define the harmonics of both pathways\n    \u03b41 = 1\n    \u03b42 = -1\n\n    # Simulate the intermolecular contributions\n    Vinter1 = dl.bg_hom3d(\u03b41*(t-tref),conc,\u03bb1)*dl.bg_hom3d_phase(\u03b41*(t-tref),conc,\u03bb1)\n    Vinter2 = dl.bg_hom3d(\u03b42*(t-tref),conc,\u03bb2)*dl.bg_hom3d_phase(\u03b42*(t-tref),conc,\u03bb2)\n    Vintra1 = dl.dipolarkernel(\u03b41*(t-tref),r,complex=True)@P\n    Vintra2 = dl.dipolarkernel(\u03b42*(t-tref),r,complex=True)@P\n\n    # Unmodulated contribution\n    \u039b0 = 1 - \u03bb1 - \u03bb2\n\n    # Compute the full dipolar signal\n    Vsim = (\u039b0 + \u03bb1*Vintra1 + \u03bb2*Vintra2)*(Vinter1*Vinter2)\n\n    # Add noise\n    std = 0.005\n    Vsim = Vsim + 1j*dl.whitegaussnoise(t,std) + dl.whitegaussnoise(t,std) \n\n    axs[0][n].plot(t,Vsim.real,color=violet)\n    axs[0][n].set_title(f'{T:n}K \\n ({100*polarization:.2f}% polarization)')\n    axs[0][n].set_xlabel('t [\u03bcs]')\n    axs[0][n].set_ylabel('In-phase V(t)')\n\n    axs[1][n].plot(t,Vsim.imag, color='tab:red')\n    axs[1][n].set_ylim([-0.1,0.1])\n    axs[1][n].set_xlabel('t [\u03bcs]')\n    axs[1][n].set_ylabel('Out-of-phase V(t)')\n\n    n += 1\nplt.subplots_adjust(wspace=0.6, hspace=0)\nplt.show()"
      ]
    }
  ],
  "metadata": {
    "kernelspec": {
      "display_name": "Python 3",
      "language": "python",
      "name": "python3"
    },
    "language_info": {
      "codemirror_mode": {
        "name": "ipython",
        "version": 3
      },
      "file_extension": ".py",
      "mimetype": "text/x-python",
      "name": "python",
      "nbconvert_exporter": "python",
      "pygments_lexer": "ipython3",
      "version": "3.9.16"
    }
  },
  "nbformat": 4,
  "nbformat_minor": 0
}