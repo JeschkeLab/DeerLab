{
  "cells": [
    {
      "cell_type": "code",
      "execution_count": null,
      "metadata": {
        "collapsed": false
      },
      "outputs": [],
      "source": [
        "%matplotlib inline"
      ]
    },
    {
      "cell_type": "markdown",
      "metadata": {},
      "source": [
        "\n# Analyzing 4-pulse DEER data acquired on three-spin systems\n\nAs in the publication referenced below, this example will take two 4-pulse DEER signals acquired\non the same protein sample conatining three nitroxide spins with different attenuation levels of the pump \npulse power.\n\nFor the original model and more information on these systems please refer to: \nL. F\u00e1bregas Ib\u00e1\u00f1ez, M. H. Tessmer, G. Jeschke, and S. Stoll. \nDipolar pathways in multi-spin and multi-dimensional dipolar EPR spectroscopy\nPhys. Chem. Chem. Phys., 24 2022, 22645-22660\n"
      ]
    },
    {
      "cell_type": "code",
      "execution_count": null,
      "metadata": {
        "collapsed": false
      },
      "outputs": [],
      "source": [
        "import numpy as  np \nimport deerlab as dl \n\n# Load experimental data\nfiles = [f'../data/triradical_protein_deer_{dB}dB.DTA' for dB in [0,6,9]]\n\n# Experiment information\nt0  = 0.280 # Acquisition deadtime, \u03bcs\ntau1 = 0.40 # First interpulse delay, \u03bcs\ntau2 = 9.00 # Second interpulse delay, \u03bcs\n\n# Construct 4-pulse DEER experiment model\nmy4pdeer = dl.ex_4pdeer(tau1,tau2,pathways=[1])\n\n# Loop over the different datasets \nVmodels,Vexps,ts,Vexps_sub,ts_sub = [],[],[],[],[]\nfor n,file in enumerate(files):\n    # Load the dataset\n    t,Vexp, descriptor = dl.deerload(file,full_output=True)\n    t = t[:-80]\n    Vexp = Vexp[:-80]\n    # Adjust the start time\n    t = t - t[0] + t0\n\n    # Pre-processing\n    Vexp = dl.correctphase(Vexp)\n    Vexp /= np.max(Vexp) \n\n    # Store the pre-processed datasets in a list\n    Vexps.append(Vexp)\n    ts.append(t) \n\n    # Subsampling \n    # (required for efficient analysis in densely sampled datasets)\n    sampling = np.arange(0,len(t),4) # Take every 4th point\n    t_sub = t[sampling]\n    Vexp_sub = Vexp[sampling]\n\n    # Store the subsampled datasets in a list\n    Vexps_sub.append(Vexp_sub)\n    ts_sub.append(t_sub) \n\n    # Construct the three-spin dipolar model\n    Vmodel = dl.dipolarmodel(t_sub,spins=3,experiment=my4pdeer, minamp=0.01)\n\n    # Add dipolar model to list of models\n    Vmodels.append(Vmodel)\n\n# Construct a global dipolar model describing all datasets\nVglobal = dl.merge(*Vmodels)\nVglobal = dl.link(Vglobal,\n        rmean1=[f'rmean1_{n+1}' for n in range(len(Vmodels))],\n        rmean2=[f'rmean2_{n+1}' for n in range(len(Vmodels))],\n        rmean3=[f'rmean3_{n+1}' for n in range(len(Vmodels))],\n        chol11=[f'chol11_{n+1}' for n in range(len(Vmodels))],\n        chol22=[f'chol22_{n+1}' for n in range(len(Vmodels))],    \n        chol33=[f'chol33_{n+1}' for n in range(len(Vmodels))],    \n        chol21=[f'chol21_{n+1}' for n in range(len(Vmodels))],    \n        chol31=[f'chol31_{n+1}' for n in range(len(Vmodels))],    \n        chol32=[f'chol32_{n+1}' for n in range(len(Vmodels))],    \n        conc=[f'conc_{n+1}' for n in range(len(Vmodels))],    \n        reftime1=[f'reftime1_{n+1}' for n in range(len(Vmodels))],  \n)\n# Freeze the Cholesky-factors accounting for the correlation coefficients\n# to zero (not always applicable) \nVglobal.chol21.freeze(0)\nVglobal.chol31.freeze(0)\nVglobal.chol32.freeze(0)\n\n# Fit the model to the data \nresults = dl.fit(Vglobal, Vexps_sub, reg=False, ftol=1e-5)"
      ]
    },
    {
      "cell_type": "markdown",
      "metadata": {},
      "source": [
        "Plot the fitted datasets \n\n"
      ]
    },
    {
      "cell_type": "code",
      "execution_count": null,
      "metadata": {
        "collapsed": false
      },
      "outputs": [],
      "source": [
        "results.plot(axis=ts_sub,xlabel='time (\u03bcs)')\n\n# Print the fit summary \nprint(results)"
      ]
    }
  ],
  "metadata": {
    "kernelspec": {
      "display_name": "Python 3",
      "language": "python",
      "name": "python3"
    },
    "language_info": {
      "codemirror_mode": {
        "name": "ipython",
        "version": 3
      },
      "file_extension": ".py",
      "mimetype": "text/x-python",
      "name": "python",
      "nbconvert_exporter": "python",
      "pygments_lexer": "ipython3",
      "version": "3.9.16"
    }
  },
  "nbformat": 4,
  "nbformat_minor": 0
}