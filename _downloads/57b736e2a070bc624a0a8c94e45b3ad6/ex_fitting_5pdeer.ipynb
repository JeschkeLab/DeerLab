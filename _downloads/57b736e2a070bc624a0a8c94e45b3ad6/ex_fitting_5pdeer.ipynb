{
  "cells": [
    {
      "cell_type": "code",
      "execution_count": null,
      "metadata": {
        "collapsed": false
      },
      "outputs": [],
      "source": [
        "%matplotlib inline"
      ]
    },
    {
      "cell_type": "markdown",
      "metadata": {},
      "source": [
        "\n# Basic fitting of a 5-pulse DEER signal\n\nThis example shows how to model and fit a 5-pulse DEER signal, including\nthe typically present additional dipolar pathway.  \n\nNow, the simple 5pDEER models contain 3 additional parameters compared to 4pDEER (due\nto the additional dipolar pathway present in the signal). However, the\nrefocusing time of the second dipolar pathway is very easy to constrain\nand strongly helps stabilizing the results. \n \nThis pathway can even estimated visually from the signal or estimated from the \npulse sequence timings. Thus, we can strongly constraint this parameters while leaving the\npathway amplitudes pretty much unconstrained.\n"
      ]
    },
    {
      "cell_type": "markdown",
      "metadata": {},
      "source": [
        "Import required packages\n\n"
      ]
    },
    {
      "cell_type": "code",
      "execution_count": null,
      "metadata": {
        "collapsed": false
      },
      "outputs": [],
      "source": [
        "import numpy as np\nimport matplotlib.pyplot as plt\nimport deerlab as dl"
      ]
    },
    {
      "cell_type": "code",
      "execution_count": null,
      "metadata": {
        "collapsed": false
      },
      "outputs": [],
      "source": [
        "# File location\npath = '../data/'\nfile = 'example_5pdeer_1.DTA'\n\n# Experimental parameters (reversed 5pDEER)\ntau1 = 3.9               # First inter-pulse delay, \u03bcs\ntau2 = 3.7               # Second inter-pulse delay, \u03bcs\ntau3 = 0.5               # Third inter-pulse delay, \u03bcs\ndeadtime = 0.3           # Acquisition deadtime, \u03bcs\n\n# Load the experimental data\nt,Vexp = dl.deerload(path + file)\nVexp = dl.correctphase(Vexp)    # Phase correction\nVexp = Vexp/np.max(Vexp)         # Rescaling (aesthetic)\nt = t + deadtime       # Account for deadtime\n\n# Distance vector\nr = np.arange(3,5,0.025) # nm\n\n# Construct dipolar model with two dipolar pathways\nexperimentInfo = dl.ex_rev5pdeer(tau1, tau2, tau3, pathways=[1,5])\nVmodel = dl.dipolarmodel(t,r, experiment=experimentInfo)\n\n# Fit the model to the data\nresults = dl.fit(Vmodel,Vexp)\n\n# Print results summary\nprint(results)"
      ]
    },
    {
      "cell_type": "code",
      "execution_count": null,
      "metadata": {
        "collapsed": false
      },
      "outputs": [],
      "source": [
        "# Extract fitted dipolar signal\nVfit = results.model\nVci = results.propagate(Vmodel).ci(95)\n\n# Extract fitted distance distribution\nPfit = results.P\nPci95 = results.PUncert.ci(95)\nPci50 = results.PUncert.ci(50)\nPfit =  Pfit\n\n# Extract the unmodulated contribution\nBfcn = lambda lam1,lam5,reftime1,reftime5,conc: results.P_scale*(1-lam1-lam5)*dl.bg_hom3d(t-reftime1,conc,lam1)*dl.bg_hom3d(t-reftime5,conc,lam5)\nBfit = results.evaluate(Bfcn)\nBci = results.propagate(Bfcn).ci(95)\n\nplt.figure(figsize=[6,7])\nviolet = '#4550e6'\nplt.subplot(211)\n# Plot experimental data\nplt.plot(t,Vexp,'.',color='grey',label='Data')\n# Plot the fitted signal \nplt.plot(t,Vfit,linewidth=3,color=violet,label='Fit')\nplt.plot(t,Bfit,'--',linewidth=3,color=violet,alpha=0.5,label='Unmodulated contribution')\nplt.legend(frameon=False,loc='best')\nplt.xlabel('Time $t$ (\u03bcs)')\nplt.ylabel('$V(t)$ (arb.u.)')\n# Plot the distance distribution\nplt.subplot(212)\nplt.plot(r,Pfit,linewidth=3,color=violet,label='Fit')\nplt.fill_between(r,Pci95[:,0],Pci95[:,1],alpha=0.3,color=violet,label='95%-Conf. Inter.',linewidth=0)\nplt.fill_between(r,Pci50[:,0],Pci50[:,1],alpha=0.5,color=violet,label='50%-Conf. Inter.',linewidth=0)\nplt.legend(frameon=False,loc='best')\nplt.autoscale(enable=True, axis='both', tight=True)\nplt.xlabel('Distance $r$ (nm)')\nplt.ylabel('$P(r)$ (nm$^{-1}$)')\nplt.tight_layout()\nplt.show()"
      ]
    }
  ],
  "metadata": {
    "kernelspec": {
      "display_name": "Python 3",
      "language": "python",
      "name": "python3"
    },
    "language_info": {
      "codemirror_mode": {
        "name": "ipython",
        "version": 3
      },
      "file_extension": ".py",
      "mimetype": "text/x-python",
      "name": "python",
      "nbconvert_exporter": "python",
      "pygments_lexer": "ipython3",
      "version": "3.9.16"
    }
  },
  "nbformat": 4,
  "nbformat_minor": 0
}