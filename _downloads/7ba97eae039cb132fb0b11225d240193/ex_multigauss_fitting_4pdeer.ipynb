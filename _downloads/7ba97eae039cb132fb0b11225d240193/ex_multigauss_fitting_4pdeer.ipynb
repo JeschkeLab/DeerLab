{
  "cells": [
    {
      "cell_type": "markdown",
      "metadata": {},
      "source": [
        "\n# Multi-Gaussian analysis of a dipolar signal\n\nAn example on how to perform a multi-Gauss analysis \nof dipolar signals using optimal selection of the number of components.  \n"
      ]
    },
    {
      "cell_type": "code",
      "execution_count": null,
      "metadata": {
        "collapsed": false
      },
      "outputs": [],
      "source": [
        "# Import the required libraries\nimport numpy as np\nimport matplotlib.pyplot as plt\nfrom matplotlib.gridspec import GridSpec\nfrom copy import deepcopy\nimport deerlab as dl"
      ]
    },
    {
      "cell_type": "code",
      "execution_count": null,
      "metadata": {
        "collapsed": false
      },
      "outputs": [],
      "source": [
        "# File location\npath = \"../data/\"\nfile = \"example_4pdeer_1.DTA\"\n\n# Experimental parameters\ntau1 = 0.3  # First inter-pulse delay, \u03bcs\ntau2 = 4.0  # Second inter-pulse delay, \u03bcs\ntmin = 0.1  # Start time, \u03bcs\n\n# Load the experimental data\nt, Vexp = dl.deerload(path + file)\n\n# Pre-processing\nVexp = dl.correctphase(Vexp)    # Phase correction\nVexp = Vexp / np.max(Vexp)      # Rescaling (aesthetic)\nt = t - t[0]                    # Account for zerotime\nt = t + tmin\n\n# Maximal number of Gaussians in the models\nNmax = 5\n\n# Construct the distance axis\nr = np.linspace(1.5, 6.5, 500)\n\n# Pre-allocate the empty lists of models\nPmodels = [[] for _ in range(Nmax)]\nVmodels = [[] for _ in range(Nmax)]\n\n# The basic model for the components (can be e.g. dl.dd_rice)\nbasisModel = deepcopy(dl.dd_gauss)\nbasisModel.mean.set(lb=min(r), ub=max(r), par0=3.5)\n\n# Model construction\nfor n in range(Nmax):\n    # Construct the n-Gaussian model\n    Pmodels[n] = dl.lincombine(*[basisModel] * (n + 1))\n    # Construct the corresponding dipolar signal model\n    Vmodels[n] = dl.dipolarmodel(t, r, Pmodel=Pmodels[n])\n\n# Fit the models to the data\nfits = [[] for _ in range(Nmax)]\nfor n in range(Nmax):\n    fits[n] = dl.fit(Vmodels[n], Vexp, reg=False)"
      ]
    },
    {
      "cell_type": "code",
      "execution_count": null,
      "metadata": {
        "collapsed": false
      },
      "outputs": [],
      "source": [
        "# Extract the values of the Akaike information criterion for each fit\naic = np.array([fit.stats[\"aic\"] for fit in fits])\n# Compute the relative difference in AIC\naic -= aic.min()\n\n# Plotting\nfig = plt.figure(figsize=[6, 6])\ngs = GridSpec(1, 3, figure=fig)\nax1 = fig.add_subplot(gs[0, :-1])\nfor n in range(Nmax):\n    # Evaluate the n-Gaussian distance distribution model\n    Pfit = fits[n].evaluate(Pmodels[n], *[r] * (n + 1))\n    # Propagate the fit uncertainty to the model\n    Puq = fits[n].propagate(Pmodels[n], *[r] * (n + 1), lb=np.zeros_like(r))\n    # Calculate the 95%-confidence intervals\n    Pci = Puq.ci(95)\n    # Normalize the probability density functions\n    Pci /= np.trapz(Pfit, r)\n    Pfit /= np.trapz(Pfit, r)\n    # Plot the optimal fit with a thicker line\n    if n == np.argmin(aic):\n        lw = 4\n    else:\n        lw = 1.5\n    # Plot the distance distributions and their confidence bands\n    ax1.plot(r, n * 2 + Pfit, label=f\"{1+n}\", linewidth=lw)\n    ax1.fill_between(r, n * 2 + Pci[:, 0], n * 2 + Pci[:, 1], alpha=0.3)\n\n# Plot the difference in AIC for each fit\nax2 = fig.add_subplot(gs[0, -1])\nfor n in range(Nmax):\n    ax2.barh(2 * n, aic[n])\n\n# Axes settings\nax1.set_ylabel(\"P(r)\")\nax1.set_xlabel(\"Distance $r$ [nm]\")\nax1.set_ylim([-1, 2 * Nmax + 1])\nax1.autoscale(enable=True, axis=\"x\", tight=True)\nax2.set_xlabel(\"$\\Delta$AIC\")\nax2.set_ylim([-1, 2 * Nmax + 1])\nax2.autoscale(enable=True, axis=\"x\", tight=True)\nax2.yaxis.set_ticklabels([])\n# Legend settings\nhandles, labels = ax1.get_legend_handles_labels()\nfig.legend(\n    handles,\n    labels,\n    title=\"N-Gaussian model\",\n    frameon=False,\n    loc=\"upper center\",\n    ncol=Nmax,\n    bbox_to_anchor=(0.55, 1.07),\n)\nplt.tight_layout()\nplt.show()"
      ]
    }
  ],
  "metadata": {
    "kernelspec": {
      "display_name": "Python 3",
      "language": "python",
      "name": "python3"
    },
    "language_info": {
      "codemirror_mode": {
        "name": "ipython",
        "version": 3
      },
      "file_extension": ".py",
      "mimetype": "text/x-python",
      "name": "python",
      "nbconvert_exporter": "python",
      "pygments_lexer": "ipython3",
      "version": "3.10.13"
    }
  },
  "nbformat": 4,
  "nbformat_minor": 0
}