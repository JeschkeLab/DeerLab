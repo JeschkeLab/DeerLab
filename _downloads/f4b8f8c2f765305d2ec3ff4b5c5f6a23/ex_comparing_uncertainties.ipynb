{
  "cells": [
    {
      "cell_type": "code",
      "execution_count": null,
      "metadata": {
        "collapsed": false
      },
      "outputs": [],
      "source": [
        "%matplotlib inline"
      ]
    },
    {
      "cell_type": "markdown",
      "metadata": {},
      "source": [
        "\n# Comparing confidence intervals for regularization results\n\nA simple example of uncertainty estimation of results obtained from dipolar signals.\nThis example runs the analysis of a 4-pulse DEER signal and compares the uncertainty of the\ndistance distribution between the covariance (curvature matrix) and bootstrap methods.\n\nBy plotting the results, one can see that the bootstrapped confidence intervals \nare narrower in comparison to the ones obtained via the curvature\nmatrices. This is because bootstrapping takes the nonnegativity constraint of P(r) into\naccount, whereas the curvature matrix CIs do not. \n"
      ]
    },
    {
      "cell_type": "code",
      "execution_count": null,
      "metadata": {
        "collapsed": false
      },
      "outputs": [],
      "source": [
        "import numpy as np \nimport matplotlib.pyplot as plt\nimport deerlab as dl"
      ]
    },
    {
      "cell_type": "code",
      "execution_count": null,
      "metadata": {
        "collapsed": false
      },
      "outputs": [],
      "source": [
        "# File location\npath = '../data/'\nfile = 'example_4pdeer_1.DTA'\n\n# Experimental parameters\ntau1 = 0.3      # First inter-pulse delay, \u03bcs\ntau2 = 4.0      # Second inter-pulse delay, \u03bcs\ndeadtime = 0.1  # Acquisition deadtime, \u03bcs\n\n# Load the experimental data\nt,Vexp = dl.deerload(path + file)\n\n# Pre-processing\nVexp = dl.correctphase(Vexp) # Phase correction\nVexp = Vexp/np.max(Vexp)     # Rescaling (aesthetic)\nt = t + deadtime             # Account for deadtime\n\n# Distance vector\nr = np.arange(2,6,0.05) # nm\n\n# Construct dipolar model\nVmodel = dl.dipolarmodel(t,r, experiment=dl.ex_4pdeer(tau1,tau2, pathways=[1]))\n\n# Fit the model to the data using covariane-based uncertainty\nresults_cm = dl.fit(Vmodel,Vexp)\n\n# Fit the model to the data using bootstrapped uncertainty\nresults_bs = dl.fit(Vmodel,Vexp,bootstrap=10)\n\n# Compute the covariance-based uncertainty bands of the distance distribution\nPci50_cm = results_cm.PUncert.ci(50)\nPci95_cm = results_cm.PUncert.ci(95)\n\n# Compute the bootstrapped uncertainty bands of the distance distribution\nPci50_bs = results_bs.PUncert.ci(50)\nPci95_bs = results_bs.PUncert.ci(95)"
      ]
    },
    {
      "cell_type": "code",
      "execution_count": null,
      "metadata": {
        "collapsed": false
      },
      "outputs": [],
      "source": [
        "# Plot the results\nfig, ax = plt.subplots(1,2,sharey=True)\nviolet = '#4550e6'\n\nax[0].plot(r,results_cm.P,'tab:red',linewidth=1)\nax[0].fill_between(r,Pci50_cm[:,0],Pci50_cm[:,1],color='tab:red',linestyle='None',alpha=0.45)\nax[0].fill_between(r,Pci95_cm[:,0],Pci95_cm[:,1],color='tab:red',linestyle='None',alpha=0.25)\n\nax[1].plot(r,results_bs.P,color=violet,linewidth=1)\nax[1].fill_between(r,Pci50_bs[:,0],Pci50_bs[:,1],color=violet,linestyle='None',alpha=0.45)\nax[1].fill_between(r,Pci95_bs[:,0],Pci95_bs[:,1],color=violet,linestyle='None',alpha=0.25)\n\nax[0].set_xlabel('Distance $r$ (nm)')\nax[0].set_ylabel('$P(r)$ (nm$^{-1}$)')\nax[0].set_title('Curvature Matrix CI')\nax[0].legend(['Median','50%-CI','95%-CI'],frameon=False,loc='best')\n\nax[1].set_xlabel('Distance $r$ (nm)')\nax[1].set_title('Bootstrapped CI')\nax[1].legend(['Median','50%-CI','95%-CI'],frameon=False,loc='best')\n\nplt.autoscale(enable=True, axis='both', tight=True)\nplt.tight_layout()\nplt.show()"
      ]
    }
  ],
  "metadata": {
    "kernelspec": {
      "display_name": "Python 3",
      "language": "python",
      "name": "python3"
    },
    "language_info": {
      "codemirror_mode": {
        "name": "ipython",
        "version": 3
      },
      "file_extension": ".py",
      "mimetype": "text/x-python",
      "name": "python",
      "nbconvert_exporter": "python",
      "pygments_lexer": "ipython3",
      "version": "3.9.15"
    }
  },
  "nbformat": 4,
  "nbformat_minor": 0
}