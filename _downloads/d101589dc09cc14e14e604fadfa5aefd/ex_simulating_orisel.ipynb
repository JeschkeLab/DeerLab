{
  "cells": [
    {
      "cell_type": "code",
      "execution_count": null,
      "metadata": {
        "collapsed": false
      },
      "outputs": [],
      "source": [
        "%matplotlib inline"
      ]
    },
    {
      "cell_type": "markdown",
      "metadata": {},
      "source": [
        "\n# Simulating orientation selection effects in dipolar signals\n\nAn example on how to simulate dipolar signals with orientation selection effects.  \n\nSpecifically, we simulate a dipolar signal with orientation selection effects arising from \nthree different distributions of the orientation weights for a 4-pulse DEER dipolar signal \nsimulated from a worm-like chain (WLC) distance distribution.\n\nThe orientation weights distributions are modelled as a 4-point spline with zero-derivative. \n"
      ]
    },
    {
      "cell_type": "code",
      "execution_count": null,
      "metadata": {
        "collapsed": false
      },
      "outputs": [],
      "source": [
        "# Import the required libraries\nimport numpy as np\nimport matplotlib.pyplot as plt\nimport deerlab as dl\nfrom scipy.interpolate import make_interp_spline"
      ]
    },
    {
      "cell_type": "code",
      "execution_count": null,
      "metadata": {
        "collapsed": false
      },
      "outputs": [],
      "source": [
        "# Simulation parameters\nreftime = 0         # Refocusing time, \u03bcs\nconc = 50           # Spin concentration, \u03bcs\nmoddepth = 0.4      # Modulation depth\ncontour = 4.0       # Contour length, nm\npersistence = 5.0   # Persistence length, nm\nrmin,rmax = 1.5,6   # Range of the distance axis, nm\n\u0394r = 0.050          # Distance resolution, nm\ntmin,tmax = -0.5,5  # Range of the time trace, \u03bcs \n\u0394t = 0.016          # Time resolution, \u03bcs \n\n# Experimental time vector\nt = np.arange(tmin,tmax,\u0394t)\n# Distance vector \nr = np.arange(rmin,rmax,\u0394r)\n\n# Orientation selection distribution (must be a function defined in the range \u03b8=[0,pi/2])\ndef P\u03b8_fcn(\u03b8,P\u03b8spline):\n    spline\u03b8 = [0, 0.4, 1, np.pi/2]\n    # Model P(\u03b8) as a 4-point spline with zero-derivative at the edges\n    P\u03b8 = make_interp_spline(spline\u03b8, P\u03b8spline, bc_type='clamped')\n    return 1-P\u03b8(\u03b8)\n\n# Spline parameters for the orientation selection distribution\nspline_parameters = [ \n    [0, 0, 0, 0],                   # Uniform, no orientation selection\n    [0.19, -0.12, 0.35, -0.163],    # Least weighted \u03b8=1\n    [0.19, -0.12, -0.25, 0.33]      # Least weighted \u03b8=0 and \u03b8=pi/2\n]\n\n# Prepare the figure and axes\nplt.figure(figsize=[8,4]) \nax1 = plt.subplot(121)\nax2 = plt.subplot(122)\n# Define custom colors for the plot \nblack = '#000000'\ngreen = '#3cb4c6' \nred = '#f84862'\ncolors = [black,red,green]\n\n# Loop over the three cases\nfor spline_param,color in zip(spline_parameters,colors):\n\n    # Define the orientation selection distribution function\n    Porisel = lambda \u03b8: P\u03b8_fcn(\u03b8, spline_param)\n\n    # Construct the dipolar signal model\n    Vmodel = dl.dipolarmodel(t,r,Pmodel=dl.dd_wormchain,orisel=Porisel) \n\n    # Simulate the signal with orientation selection\n    Vsim = Vmodel(contour=contour, persistence=persistence, reftime=reftime, mod=moddepth, conc=conc, scale=1)\n\n    # Plot the simulated orientation selection distribution\n    \u03b8 = np.linspace(0,np.pi/2,300)\n    ax1.plot(\u03b8,Porisel(\u03b8),color=color,lw=2)\n    # Plot the simulated signal\n    ax2.plot(t,Vsim,color=color,lw=2)\n\n# Format the figure\nax1.set_xlabel('Interspin vector orientation $\u03b8$ (rad)')\nax1.set_ylabel('P(\u03b8)')\nax2.set_xlabel('Time (\u03bcs)')\nax2.set_ylabel('V(t)')\nplt.show()"
      ]
    }
  ],
  "metadata": {
    "kernelspec": {
      "display_name": "Python 3",
      "language": "python",
      "name": "python3"
    },
    "language_info": {
      "codemirror_mode": {
        "name": "ipython",
        "version": 3
      },
      "file_extension": ".py",
      "mimetype": "text/x-python",
      "name": "python",
      "nbconvert_exporter": "python",
      "pygments_lexer": "ipython3",
      "version": "3.9.15"
    }
  },
  "nbformat": 4,
  "nbformat_minor": 0
}