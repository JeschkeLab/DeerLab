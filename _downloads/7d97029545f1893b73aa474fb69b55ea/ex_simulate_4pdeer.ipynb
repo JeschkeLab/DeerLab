{
  "cells": [
    {
      "cell_type": "code",
      "execution_count": null,
      "metadata": {
        "collapsed": false
      },
      "outputs": [],
      "source": [
        "%matplotlib inline"
      ]
    },
    {
      "cell_type": "markdown",
      "metadata": {},
      "source": [
        "\n# Simulating a 4-pulse DEER signal\n\nAn example on how to simulate a 4-pulse DEER dipolar signal.  \n\nSpecifically, we simulate a single-pathway 4-pulse DEER dipolar signal arising from \na Gaussian distance distribution\n"
      ]
    },
    {
      "cell_type": "code",
      "execution_count": null,
      "metadata": {
        "collapsed": false
      },
      "outputs": [],
      "source": [
        "# Import the required libraries\nimport numpy as np\nimport matplotlib.pyplot as plt\nimport deerlab as dl"
      ]
    },
    {
      "cell_type": "code",
      "execution_count": null,
      "metadata": {
        "collapsed": false
      },
      "outputs": [],
      "source": [
        "# Simulation parameters\ntau1 = 0.5          # First inter-pulse time delay, \u03bcs\ntau2 = 4.5          # Second inter-pulse time delay, \u03bcs\nconc = 50           # Spin concentration, \u03bcs\nlam1 = 0.40         # Amplitude of main contribution \nlam23 = 0.02        # Ampltiude of the \"2+1\" contributions\nrmean = 4.0         # Mean distance, nm\nrstd = 0.3          # Distance standard deviation, nm\n\u0394r = 0.05           # Distance resolution, nm\nrmin,rmax = 1.5,6   # Range of the distance vector, nm \n\u0394t = 0.008          # Time resolution, \u03bcs \ndeadtime = 0.3      # Acquisition deadtime, \u03bcs\n\n# Experimental time vector\nt = np.arange(deadtime,tau1+tau2,\u0394t)\n# Distance vector \nr = np.arange(rmin,rmax,\u0394r)\n\n# Experiment model\nexperiment = dl.ex_4pdeer(tau1,tau2, pathways=[1,2,3])\nreftime1 = experiment.reftimes[0]\nreftime2 = experiment.reftimes[1]\nreftime3 = experiment.reftimes[2]\n\n# Construct the dipolar signal model\nVmodel = dl.dipolarmodel(t,r,Pmodel=dl.dd_gauss, experiment=experiment) \n\n# Function for the scaled background\nVinter_fcn = lambda lam1,lam23,conc: (1-lam1-2*lam23)*dl.bg_hom3d(t-reftime1,conc,lam1)*dl.bg_hom3d(t-reftime2,conc,lam23)*dl.bg_hom3d(t-reftime3,conc,lam23)\n\n# Simulate the signal with orientation selection\nVsim = Vmodel(mean=rmean, std=rstd, conc=conc, scale=1, lam1=lam1, lam2=lam23, lam3=lam23, reftime1=reftime1, reftime2=reftime2, reftime3=reftime3)\n\n# Plot the simulated signal\nplt.figure(figsize=[4,3])\nplt.plot(t,Vsim,'k',lw=2,label='V(t)')\nplt.plot(t,Vinter_fcn(lam1,lam23,conc),'--',color='#f84862',lw=2,label='(1-\u03bb)$V_{inter}$')\nplt.legend()\nplt.xlabel('Time (\u03bcs)')\nplt.ylabel('V(t)')\nplt.tight_layout()\nplt.show()"
      ]
    }
  ],
  "metadata": {
    "kernelspec": {
      "display_name": "Python 3",
      "language": "python",
      "name": "python3"
    },
    "language_info": {
      "codemirror_mode": {
        "name": "ipython",
        "version": 3
      },
      "file_extension": ".py",
      "mimetype": "text/x-python",
      "name": "python",
      "nbconvert_exporter": "python",
      "pygments_lexer": "ipython3",
      "version": "3.9.13"
    }
  },
  "nbformat": 4,
  "nbformat_minor": 0
}