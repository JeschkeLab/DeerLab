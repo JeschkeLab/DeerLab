{
  "cells": [
    {
      "cell_type": "markdown",
      "metadata": {},
      "source": [
        "# Analysis of a 6-pulse DQC signal with multiple dipolar pathways\n\nFit an experimental 6-pulse DQC signal with a model with a non-parametric\ndistribution and a homogeneous background, using Tikhonov regularization. \nThe model assumes three dipolar pathways (#1, #2, and #3) to be contributing\nto the data.   \n"
      ]
    },
    {
      "cell_type": "code",
      "execution_count": null,
      "metadata": {
        "collapsed": false
      },
      "outputs": [],
      "source": [
        "import numpy as np \nimport deerlab as dl \nimport matplotlib.pyplot as plt \nviolet = '#4550e6'\n\n# Load experimental data\nfile = '../data/experimental_dqc_1.DTA'\nt,Vexp = dl.deerload(file)\n\n# Experimental parameters\ntau2 = 2.0 # \u03bcs\ntau1 = 1.8 # \u03bcs\ntau3 = 0.2 # \u03bcs\n\n# Pre-processing\nVexp = dl.correctphase(Vexp)\nt = t-t[0]\n\n# Remove data outside of the detectable range\nVexp = Vexp[t<=2*tau2-4*tau3]\nt = t[t<=2*tau2-4*tau3]\n\n# Mask out artificial spike due to spectrometer issue\nmask = (t<0.05) | (t>0.15)\nVexp = Vexp/max(Vexp[mask])\n\n# Construct the model\nr = np.arange(2.5,4,0.01) # nm\nexperiment = dl.ex_dqc(tau1,tau2,tau3,pathways=[1,2,3])\nVmodel =  dl.dipolarmodel(t,r,experiment=experiment)\n\n# The amplitudes of the second and third pathways must be equal\nVmodel = dl.link(Vmodel,lam23=['lam2','lam3'])\n\n# Fit the model to the data\nresults = dl.fit(Vmodel,Vexp,mask=mask)\n\n# Display a summary of the results\nprint(results)"
      ]
    },
    {
      "cell_type": "code",
      "execution_count": null,
      "metadata": {
        "collapsed": false
      },
      "outputs": [],
      "source": [
        "# Plot the results\nplt.figure(figsize=[8,5])\n\n# Plot the full detectable range\ntfull = np.arange(-2*tau1,2*tau2-4*tau3,0.008)\nVmodelext =  dl.dipolarmodel(tfull,r,experiment=experiment)\nVmodelext = dl.link(Vmodelext,lam23=['lam2','lam3'])\n\n# Extract results\nPfit = results.P\nPci = results.PUncert.ci(95)\nlams = [results.lam1, results.lam23, results.lam23]\nreftimes = [results.reftime1, results.reftime2, results.reftime3]\ncolors= [violet,'tab:orange','tab:red']\n\n# Plot the data and fit\nplt.subplot(221)\nplt.plot(t,Vexp,'.',color='grey',label='Data')\nplt.plot(tfull,results.evaluate(Vmodelext),color=violet,label='Model fit')\nplt.legend(frameon=False,loc='best')\nplt.xlabel('Time $t$ (\u03bcs)')\nplt.ylabel('$V(t)$ (arb.u.)')\n\n# Plot the individual pathway contributions\nplt.subplot(223)\nVinter = results.P_scale*(1-np.sum(lams))*np.prod([dl.bg_hom3d(tfull-reftime,results.conc,lam) for lam,reftime in zip(lams,reftimes)],axis=0)\nfor n,(lam,reftime,color) in enumerate(zip(lams,reftimes,colors)):\n    Vpath = (1-np.sum(lams) + lam*dl.dipolarkernel(tfull-reftime,r)@Pfit)*Vinter\n    plt.plot(tfull,Vpath,label=f'Pathway #{n+1}',color=color)\nplt.legend(frameon=False,loc='best')\nplt.xlabel('Time $t$ (\u03bcs)')\nplt.ylabel('$V(t)$ (arb.u.)')\n\n# Plot the distance distribution\nplt.subplot(122)\nplt.plot(r,Pfit,color=violet,label='Fit')\nplt.fill_between(r,*Pci.T,color=violet,alpha=0.4,label='95% CI')\nplt.legend(frameon=False,loc='best')\nplt.xlabel('Distance r (nm)')\nplt.ylabel('P(r) (nm$^{-1}$)')\nplt.autoscale(enable=True, axis='both', tight=True)\n\nplt.tight_layout()\nplt.show()"
      ]
    }
  ],
  "metadata": {
    "kernelspec": {
      "display_name": "Python 3",
      "language": "python",
      "name": "python3"
    },
    "language_info": {
      "codemirror_mode": {
        "name": "ipython",
        "version": 3
      },
      "file_extension": ".py",
      "mimetype": "text/x-python",
      "name": "python",
      "nbconvert_exporter": "python",
      "pygments_lexer": "ipython3",
      "version": "3.10.12"
    }
  },
  "nbformat": 4,
  "nbformat_minor": 0
}