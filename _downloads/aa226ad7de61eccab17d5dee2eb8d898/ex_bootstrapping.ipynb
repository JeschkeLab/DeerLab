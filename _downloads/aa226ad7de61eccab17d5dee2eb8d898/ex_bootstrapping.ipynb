{
  "cells": [
    {
      "cell_type": "markdown",
      "metadata": {},
      "source": [
        "# Bootstrapped confidence intervals in routine analysis\n\nHow to obtain bootstrapped confidence intervals for simple routine operations.\n\nUnless specified otherwise, the function ``fit`` will return moment-based confidence intervals based on the covariance matrix\nof the objective function used to fit the data. These are quick to calculate and therefore very comfortable for quick estimates of\nthe uncertainty during routine analysis or testing. \n\nHowever, for publication-level analysis, these confidence intervals might be inaccurate. It is strongly recommended to employ bootstrapped \nconfidence intervals to get accurate estimates of the uncertainty. \nConviniently, ``fit`` integrates bootstrapping to make it accessible via the keyword argument ``bootstrap`` which specifies the\nnumber of samples to analyze to estimate the uncertainty. The larger this number, the more accurate \nthe confidence intervals but the longer the analysis will be. The standard for publication is typically 1000 samples. \n"
      ]
    },
    {
      "cell_type": "code",
      "execution_count": null,
      "metadata": {
        "collapsed": false
      },
      "outputs": [],
      "source": [
        "import numpy as np\nimport matplotlib.pyplot as plt\nimport deerlab as dl"
      ]
    },
    {
      "cell_type": "code",
      "execution_count": null,
      "metadata": {
        "collapsed": false
      },
      "outputs": [],
      "source": [
        "# File location\npath = '../data/'\nfile = 'example_4pdeer_1.DTA'\n\n# Experimental parameters\ntau1 = 0.3      # First inter-pulse delay, \u03bcs\ntau2 = 4.0      # Second inter-pulse delay, \u03bcs\ntmin = 0.1      # Start time, \u03bcs\n\n# Load the experimental data\nt,Vexp = dl.deerload(path + file)\n\n# Pre-processing\nVexp = dl.correctphase(Vexp) # Phase correction\nVexp = Vexp/np.max(Vexp)     # Rescaling (aesthetic)\nt = t - t[0]                 # Account for zerotime\nt = t + tmin    \n\n# Distance vector\nr = np.linspace(2,5,100) # nm\n\n# Construct the model\nVmodel = dl.dipolarmodel(t,r, experiment = dl.ex_4pdeer(tau1,tau2, pathways=[1]))\n\n# Fit the model to the data\nresults = dl.fit(Vmodel,Vexp,bootstrap=20)\n\n# In this example, just for the sake of time, we will just use 20 bootstrap samples.  \n\n# Print results summary\nprint(results)"
      ]
    },
    {
      "cell_type": "code",
      "execution_count": null,
      "metadata": {
        "collapsed": false
      },
      "outputs": [],
      "source": [
        "# Extract fitted dipolar signal\nVfit = results.model\nVci = results.propagate(Vmodel).ci(95)\n\n# Extract fitted distance distribution\nPfit = results.P\nPci95 = results.PUncert.ci(95)\nPci50 = results.PUncert.ci(50)\n\n# Extract the unmodulated contribution\nBfcn = lambda mod,conc,reftime: results.P_scale*(1-mod)*dl.bg_hom3d(t-reftime,conc,mod)\nBfit = results.evaluate(Bfcn)\nBci = results.propagate(Bfcn).ci(95)\n\nplt.figure(figsize=[6,7])\nviolet = '#4550e6'\nplt.subplot(211)\n# Plot experimental data\nplt.plot(t,Vexp,'.',color='grey',label='Data')\n# Plot the fitted signal \nplt.plot(t,Vfit,linewidth=3,label='Bootstrap median',color=violet)\nplt.plot(t,Bfit,'--',linewidth=3,color=violet,label='Unmodulated contribution')\nplt.legend(frameon=False,loc='best')\nplt.xlabel('Time $t$ (\u03bcs)')\nplt.ylabel('$V(t)$ (arb.u.)')\n# Plot the distance distribution\nplt.subplot(212)\nplt.plot(r,Pfit,linewidth=3,label='Bootstrap median',color=violet)\nplt.fill_between(r,Pci95[:,0],Pci95[:,1],alpha=0.3,color=violet,label='95%-Conf. Inter.',linewidth=0)\nplt.fill_between(r,Pci50[:,0],Pci50[:,1],alpha=0.5,color=violet,label='50%-Conf. Inter.',linewidth=0)\nplt.legend(frameon=False,loc='best')\nplt.autoscale(enable=True, axis='both', tight=True)\nplt.xlabel('Distance $r$ (nm)')\nplt.ylabel('$P(r)$ (nm$^{-1}$)')\nplt.tight_layout()\nplt.show()"
      ]
    }
  ],
  "metadata": {
    "kernelspec": {
      "display_name": "Python 3",
      "language": "python",
      "name": "python3"
    },
    "language_info": {
      "codemirror_mode": {
        "name": "ipython",
        "version": 3
      },
      "file_extension": ".py",
      "mimetype": "text/x-python",
      "name": "python",
      "nbconvert_exporter": "python",
      "pygments_lexer": "ipython3",
      "version": "3.10.14"
    }
  },
  "nbformat": 4,
  "nbformat_minor": 0
}