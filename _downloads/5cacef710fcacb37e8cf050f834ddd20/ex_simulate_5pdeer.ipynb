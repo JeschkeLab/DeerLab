{
  "cells": [
    {
      "cell_type": "code",
      "execution_count": null,
      "metadata": {
        "collapsed": false
      },
      "outputs": [],
      "source": [
        "%matplotlib inline"
      ]
    },
    {
      "cell_type": "markdown",
      "metadata": {},
      "source": [
        "\n# Simulating a 5-pulse DEER signal\n\nAn example on how to simulate a 5-pulse DEER dipolar signal.  \n\nSpecifically, we simulate a single-pathway 5-pulse DEER dipolar signal arising from \na Gaussian distance distribution\n"
      ]
    },
    {
      "cell_type": "code",
      "execution_count": null,
      "metadata": {
        "collapsed": false
      },
      "outputs": [],
      "source": [
        "# Import the required libraries\nimport numpy as np\nimport matplotlib.pyplot as plt\nimport deerlab as dl"
      ]
    },
    {
      "cell_type": "code",
      "execution_count": null,
      "metadata": {
        "collapsed": false
      },
      "outputs": [],
      "source": [
        "# Simulation parameters\ntau1 = 3.5          # 1st experimental time delay, \u03bcs\ntau2 = 4.2          # 2nd experimental time delay, \u03bcs\ntau3 = 0.3          # 3rd experimental time delay, \u03bcs\nconc = 150           # Spin concentration, \u03bcs\nlam1 = 0.30         # Amplitude of dipolar pathway refocusing at t=tau3, \u03bcs    \nlam2 = 0.15         # Amplitude of dipolar pathway refocusing at t=tau2, \u03bcs    \nrmean = 4.0         # Mean distance, nm\nrstd = 0.4          # Distance standard deviation, nm\nrmin,rmax = 1.5,6   # Range of the distance axis, nm\n\u0394r = 0.05           # Distance resolution, nm\n\u0394t = 0.008          # Time resolution, \u03bcs \ndeadtime = 0.1      # Acquisition deadtime, \u03bcs\n\n# Experimental time vector\nt = np.arange(deadtime,tau1+tau2+tau3,\u0394t)\n# Distance vector \nr = np.arange(rmin,rmax,\u0394r)\n\nexperiment = dl.ex_rev5pdeer(tau1,tau2,tau3, pathways=[1,2])\nreftime1 = experiment.reftimes[0]\nreftime2 = experiment.reftimes[1]\n\n# Construct the dipolar signal model\nVmodel = dl.dipolarmodel(t,r,Pmodel=dl.dd_gauss, experiment=experiment) \n# Function for the scaled background\nVinter_fcn = lambda lam1,lam2,conc: (1-lam1-lam2)*dl.bg_hom3d(t-reftime1,conc,lam1)*dl.bg_hom3d(t-reftime2,conc,lam2)\n\n# Simulate the signal with orientation selection\nVsim = Vmodel(mean=rmean, std=rstd, conc=conc, scale=1, lam1=lam1, lam2=lam2, reftime1=reftime1, reftime2=reftime2)\n\n# Plot the simulated signal\nplt.figure(figsize=[4,3])\nplt.plot(t,Vsim,'k',lw=2,label='V(t)')\nplt.plot(t,Vinter_fcn(lam1,lam2,conc),'--',color='#f84862',lw=2,label='(1-\u03bb)$V_{inter}$')\nplt.legend()\nplt.xlabel('Time (\u03bcs)')\nplt.ylabel('V(t)')\nplt.tight_layout()\nplt.show()"
      ]
    }
  ],
  "metadata": {
    "kernelspec": {
      "display_name": "Python 3",
      "language": "python",
      "name": "python3"
    },
    "language_info": {
      "codemirror_mode": {
        "name": "ipython",
        "version": 3
      },
      "file_extension": ".py",
      "mimetype": "text/x-python",
      "name": "python",
      "nbconvert_exporter": "python",
      "pygments_lexer": "ipython3",
      "version": "3.9.15"
    }
  },
  "nbformat": 4,
  "nbformat_minor": 0
}