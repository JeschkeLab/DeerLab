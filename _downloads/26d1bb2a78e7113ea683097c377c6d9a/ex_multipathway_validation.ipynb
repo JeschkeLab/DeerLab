{
  "cells": [
    {
      "cell_type": "markdown",
      "metadata": {},
      "source": [
        "# Validating multi-pathway models based on the data\n\nHow to determine whether the dipolar signal model defined with the\nset of specified dipolar pathways pathways is a proper descriptor of\nthe experimental data. \n\nThis example shows how to use goodness-of-fit criteria to determine \nwhether enough dipolar pathways have been accounted for in the model.  \n\nA model that accurately describes the data must result in a residual vector\nthat is normally distributed, has zero mean, and has no significant \nautocorrelations. In this example, we will look at an experimental 4-pulse DEER\ndataset acquired on a maltose-binding protein (MBP) and use the built-in \ngoodness-of-fit tools to quantitatively validate whether the dataste is well described by a \ndipolar model with a single, two or three dipolar pathways.\n"
      ]
    },
    {
      "cell_type": "code",
      "execution_count": null,
      "metadata": {
        "collapsed": false
      },
      "outputs": [],
      "source": [
        "import numpy as np \nimport deerlab as dl \nimport matplotlib.pyplot as plt"
      ]
    },
    {
      "cell_type": "code",
      "execution_count": null,
      "metadata": {
        "collapsed": false
      },
      "outputs": [],
      "source": [
        "# File location\nfile = \"../data/experimental_mbp_protein_4pdeer.DTA\"\n\n# Experiment information\ntmin = 0.040\ntau1 = 0.4 \ntau2 = 3.0\n\n# Laod and preprocess the data\nt,Vexp = dl.deerload(file)\nt = t[:-2]\nVexp = Vexp[:-2]\nVexp = dl.correctphase(Vexp) \nVexp = Vexp/max(Vexp)\nt = t- t[0] + tmin\n\n# Define the distance vector\nr = np.arange(3,4.5,0.05)\n\n# Loop over different dipolar models with varying number of pathways\nfor Npathways in [1,2,3]:\n    print(f'Model with {Npathways} dipolar pathways:')\n\n    # Construct the experiment model with different pathways\n    experiment = dl.ex_4pdeer(tau1,tau2,pathways=np.arange(1,Npathways+1,1))\n\n    # Construct the dipolar model with a non-parametric distance distribution \n    Vmodel = dl.dipolarmodel(t,r,experiment=experiment)\n\n    # Define the compactness penalty for best results\n    compactness = dl.dipolarpenalty(None,r,'compactness')\n\n    # Fit the data to the current model\n    results = dl.fit(Vmodel,Vexp,penalties=compactness)\n\n    # Print the summary of the results\n    print(results)\n\n    # Plot the fit of the model to the data along its goodness-of-fit tests\n    results.plot(axis=t, xlabel='t (\u03bcs)', gof=True)\n    plt.suptitle(f'Model with {Npathways} dipolar pathways:')\n    plt.show()"
      ]
    },
    {
      "cell_type": "markdown",
      "metadata": {},
      "source": [
        "The first model is clearly underparametrized as it results in \nnon-normal residuals and strong correlations. This is supported by the large chi-squared value.\nAdding the second pathway seems to improve the description of the data, \nas the residuals are now better distributed. However, there appears to be some autocorrelations \nleft and the chi-squared value still presents too large values. \nAdding the third pathway results in the best description of the data, \nwith normally distributed residuals and no significant autocorrelations.\n\n"
      ]
    }
  ],
  "metadata": {
    "kernelspec": {
      "display_name": "Python 3",
      "language": "python",
      "name": "python3"
    },
    "language_info": {
      "codemirror_mode": {
        "name": "ipython",
        "version": 3
      },
      "file_extension": ".py",
      "mimetype": "text/x-python",
      "name": "python",
      "nbconvert_exporter": "python",
      "pygments_lexer": "ipython3",
      "version": "3.10.12"
    }
  },
  "nbformat": 4,
  "nbformat_minor": 0
}