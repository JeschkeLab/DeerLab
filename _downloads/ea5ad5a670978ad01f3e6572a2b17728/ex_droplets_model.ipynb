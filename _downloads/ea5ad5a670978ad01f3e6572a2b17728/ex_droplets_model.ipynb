{
  "cells": [
    {
      "cell_type": "markdown",
      "metadata": {},
      "source": [
        "\n# Global analysis of 5-pulse DEER on a liquid-droplet protein system \n\nCertain protein systems can form fractions of protein either in a liquid-droplet\nor dispersed states. Each of these fractions gives rise to a different dipolar signal\nwhich are combined into a detected signal. Due to the differences in local concentration\nthe intermolecular contributions for each fraction are completely different and can be \nmodelled in a global manner. \n\nAs in the publication referenced below, this example will take two 5-pulse DEER signals acquired\non the same sample with slightly different pulse sequence delays and fit it globally to the \ndroplet signal model.\n\nFor the original model and more information on these systems please refer to: \nEmmanouilidis, L., Esteban-Hofer, L., Damberger, F.F. et al. \nNMR and EPR reveal a compaction of the RNA-binding protein FUS upon droplet formation. Nat Chem Biol 17, 608\u2013614 (2021).\nhttps://doi.org/10.1038/s41589-021-00752-3 \n"
      ]
    },
    {
      "cell_type": "code",
      "execution_count": null,
      "metadata": {
        "collapsed": false
      },
      "outputs": [],
      "source": [
        "import deerlab as dl \nimport numpy as np\nimport matplotlib.pyplot as plt \nviolet = '#4550e6'\n\n\n# Load experimental data\nt1,Vexp1 = np.load('../data/example_droplets_data_1.npy')\nt2,Vexp2 = np.load('../data/example_droplets_data_2.npy')\n\n# Put all datasets into lists\nts = [t1,t2]\nVs = [Vexp1,Vexp2]\n\n# Distance vector\nr = np.linspace(0.05,7,200)\n\n# Model of a dipolar signal in arising from a dispersed and liquid-droplet states\n#----------------------------------------------------------------------------------\ndef dropletmodel(t):\n    # Dispersed-state component model\n    Vdis_model = dl.dipolarmodel(t,r, Pmodel=dl.dd_gauss, Bmodel=dl.bg_exp, npathways=2)\n    # Liquid-droplet-state component model\n    Vld_model = dl.dipolarmodel(t,r, Pmodel=dl.dd_gauss, Bmodel=dl.bg_strexp, npathways=2)\n    # Create a dipolar signal model that is a linear combination of both components\n    Vmodel = dl.lincombine(Vdis_model,Vld_model, addweights=True)\n    Vmodel = dl.link(Vmodel,\n                    reftime1=['reftime1_1','reftime1_2'],\n                    reftime2=['reftime2_1','reftime2_2'],\n                    lam1=['lam1_1','lam1_2'],\n                    lam2=['lam2_1','lam2_2'])\n    Vmodel.scale_1.freeze(1)\n    Vmodel.scale_2.freeze(1)\n    # Make the second weight dependent on the first one\n    Vmodel = dl.relate(Vmodel,weight_2 = lambda weight_1: 1 - weight_1)\n    return Vmodel,Vdis_model,Vld_model\n#----------------------------------------------------------------------------------\n\n# Generate the models\nVmodel1,Vdismodel1,Vldmodel1 = dropletmodel(ts[0])\nVmodel2,Vdismodel2,Vldmodel2 = dropletmodel(ts[1])\n\n# Create the global model\nglobalModel = dl.merge(Vmodel1,Vmodel2)\n# Link global parameters toghether with new names\nglobalModel = dl.link(globalModel,\n                eta = ['weight_1_1','weight_1_2'],\n                kdis = ['decay_1_1','decay_1_2'],\n                kld = ['decay_2_1','decay_2_2'],\n                Dld = ['stretch_2_1','stretch_2_2'],\n                rmean_dis = ['mean_1_1','mean_1_2'],\n                rmean_ld = ['mean_2_1','mean_2_2'],\n                std_dis = ['std_1_1','std_1_2'],\n                std_ld = ['std_2_1','std_2_2'],\n                lam1 = ['lam1_1','lam1_2'],\n                lam2 = ['lam2_1','lam2_2'],\n                reftime1 = ['reftime1_1','reftime1_2'])\n\n# Specify parameter boundaries and initial conditions \nglobalModel.eta.set(       lb=0.468, ub=0.57, par0=0.520)\nglobalModel.kdis.set(      lb=0.0,   ub=0.09, par0=0.01)\nglobalModel.kld.set(       lb=0.0,   ub=1,    par0=0.12)\nglobalModel.Dld.set(       lb=2,     ub=4,    par0=2.5)\nglobalModel.rmean_dis.set( lb=3,     ub=6.35, par0=3.7)\nglobalModel.rmean_ld.set(  lb=1,     ub=4.35, par0=2.6)\nglobalModel.std_dis.set(   lb=0.25,  ub=0.74, par0=0.44)\nglobalModel.std_ld.set(    lb=0.2,   ub=2,    par0=0.7)\nglobalModel.lam1.set(      lb=0.3,   ub=0.5,  par0=0.4)\nglobalModel.lam2.set(      lb=0.0,   ub=0.2,  par0=0.08)\nglobalModel.reftime1.set(  lb=0.1,   ub=0.3,  par0=0.2)\nglobalModel.reftime2_1.set(lb=3.2,   ub=3.8,  par0=3.4)\nglobalModel.reftime2_2.set(lb=2.0,   ub=2.5,  par0=2.2)\n\n# Fit the model to the data\nfit = dl.fit(globalModel,Vs)\n\nprint(fit)\n\n# Plot the results\nplt.figure(figsize=[9,9])\nviolet = '#4550e6'\n\nplt.subplot(3,2,1)\nplt.plot(ts[0],Vs[0],'.',color='grey',label='Data')\nplt.plot(ts[0],fit.model[0],color='k',label='Fit',linewidth=1.5)\nplt.ylim([0.2,1])\nplt.legend(frameon=False,loc='best')\nplt.xlabel('Time t (\u03bcs)')\nplt.ylabel('Dataset #1 V(t)')\n\nax2 = plt.subplot(3,2,2)\n\nVdis_fit = Vdismodel1(decay=fit.kdis,mean=fit.rmean_dis,std=fit.std_dis,reftime1=fit.reftime1,reftime2=fit.reftime2_1,lam1=fit.lam1,lam2=fit.lam2,scale=1)\nVld_fit = Vldmodel1(decay=fit.kld,stretch=fit.Dld,mean=fit.rmean_ld,std=fit.std_ld,reftime1=fit.reftime1,reftime2=fit.reftime2_1,lam1=fit.lam1,lam2=fit.lam2,scale=1)\n\nax2.plot(ts[0],Vdis_fit,color=violet,label=f'Dispersed fraction {fit.eta*100:.1f}%')\nax2.plot(ts[0],Vld_fit,color='tab:red',label=f'Liquid-droplet fraction {(1-fit.eta)*100:.1f}%')\nax2.set_yticklabels([])\nax2.legend(frameon=False,loc='best')\nax2.set_ylim([0.2,1])\nax2.set_xlabel('Time t (\u03bcs)')\n\n\nplt.subplot(3,2,3)\nplt.plot(ts[1],Vs[1],'.',color='grey',label='Data')\nplt.plot(ts[1],fit.model[1],color='k',label='Fit',linewidth=1.5)\nplt.ylim([0.2,1])\nplt.legend(frameon=False,loc='best')\nplt.xlabel('Time t (\u03bcs)')\nplt.ylabel('Dataset #2 V(t)')\n\nax4 = plt.subplot(3,2,4)\n\nVdis_fit = Vdismodel2(decay=fit.kdis,mean=fit.rmean_dis,std=fit.std_dis,reftime1=fit.reftime1,reftime2=fit.reftime2_2,lam1=fit.lam1,lam2=fit.lam2,scale=1)\nVld_fit = Vldmodel2(decay=fit.kld,stretch=fit.Dld,mean=fit.rmean_ld,std=fit.std_ld,reftime1=fit.reftime1,reftime2=fit.reftime2_2,lam1=fit.lam1,lam2=fit.lam2,scale=1)\n\nax4.plot(ts[1],Vdis_fit,color=violet,label=f'Dispersed fraction {fit.eta*100:.1f}%')\nax4.plot(ts[1],Vld_fit,color='tab:red',label=f'Liquid-droplet fraction {(1-fit.eta)*100:.1f}%')\nax4.set_yticklabels([])\nax4.legend(frameon=False,loc='best')\nax4.set_xlabel('Time t (\u03bcs)')\nax4.set_ylim([0.2,1])\n\nplt.subplot(3,1,3)\n\nPdis_fcn = lambda rmean_dis,std_dis: dl.dd_gauss(r,rmean_dis,std_dis)\nPld_fcn = lambda rmean_ld,std_ld: dl.dd_gauss(r,rmean_ld,std_ld)\n\nPdis_uq = fit.propagate(Pdis_fcn,lb=np.zeros_like(r))\nPld_uq = fit.propagate(Pld_fcn,lb=np.zeros_like(r))\n\nplt.plot(r,Pdis_fcn(fit.rmean_dis,fit.std_dis),label=f'Dispersed fraction {fit.eta*100:.1f}%',color=violet)\nplt.fill_between(r,Pdis_uq.ci(95)[:,0],Pdis_uq.ci(95)[:,1],alpha=0.3,linewidth=0,color=violet)\nplt.plot(r,Pld_fcn(fit.rmean_ld,fit.std_ld),label=f'Liquid-droplet fraction {(1-fit.eta)*100:.1f}%',color='tab:red')\nplt.fill_between(r,Pld_uq.ci(95)[:,0],Pld_uq.ci(95)[:,1],alpha=0.3,linewidth=0,color='tab:red')\n\nplt.legend(frameon=False,loc='best')\nplt.xlabel('Distance r (nm)')\nplt.ylabel('P(r) (nm$^{-1}$)')\nplt.tight_layout()\nplt.show()"
      ]
    }
  ],
  "metadata": {
    "kernelspec": {
      "display_name": "Python 3",
      "language": "python",
      "name": "python3"
    },
    "language_info": {
      "codemirror_mode": {
        "name": "ipython",
        "version": 3
      },
      "file_extension": ".py",
      "mimetype": "text/x-python",
      "name": "python",
      "nbconvert_exporter": "python",
      "pygments_lexer": "ipython3",
      "version": "3.10.14"
    }
  },
  "nbformat": 4,
  "nbformat_minor": 0
}