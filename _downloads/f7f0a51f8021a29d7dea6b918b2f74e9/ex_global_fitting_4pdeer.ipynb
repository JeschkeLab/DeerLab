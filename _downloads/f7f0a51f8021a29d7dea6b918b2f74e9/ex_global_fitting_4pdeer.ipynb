{
  "cells": [
    {
      "cell_type": "code",
      "execution_count": null,
      "metadata": {
        "collapsed": false
      },
      "outputs": [],
      "source": [
        "%matplotlib inline"
      ]
    },
    {
      "cell_type": "markdown",
      "metadata": {},
      "source": [
        "# Global fitting of multiple 4-pulse DEER signals, non-parametric distribution\n\nHow to fit multiple 4-pulse DEER signals to a model with a non-parametric\ndistribution and a homogeneous background.\n"
      ]
    },
    {
      "cell_type": "code",
      "execution_count": null,
      "metadata": {
        "collapsed": false
      },
      "outputs": [],
      "source": [
        "import numpy as np\nimport matplotlib.pyplot as plt\nimport deerlab as dl"
      ]
    },
    {
      "cell_type": "code",
      "execution_count": null,
      "metadata": {
        "collapsed": false
      },
      "outputs": [],
      "source": [
        "# File location\npath = '../data/'\nfiles = [\n    'example_4pdeer_3.DTA',\n    'example_4pdeer_4.DTA',\n    ]\n\n# Experimental parameters\ntau1s = [0.3, 0.5]      # First inter-pulse delay, \u03bcs\ntau2s = [2.0, 4.0]      # Second inter-pulse delay, \u03bcs\ndeadtimes = [0.1, 0.3]  # Acquisition deadtime, \u03bcs\n\nVmodels,ts,Vs = [],[],[]\nfor file, tau1, tau2, deadtime in zip(files, tau1s, tau2s, deadtimes): \n\n    # Load the experimental data\n    t,Vexp = dl.deerload(path + file)\n\n    # Pre-processing\n    Vexp = dl.correctphase(Vexp) # Phase correction\n    Vexp = Vexp/np.max(Vexp)     # Rescaling (aesthetic)\n    t = t + deadtime             # Account for deadtime\n\n    # Distance vector\n    r = np.arange(1.5,7,0.05) # nm\n\n    # Put the datasets into lists\n    ts.append(t)\n    Vs.append(Vexp)\n\n    # Construct the dipolar models for the individual signals\n    Vmodels.append(dl.dipolarmodel(t,r, experiment=dl.ex_4pdeer(tau1,tau2,pathways=[1])) )\n\n# Make the global model by joining the individual models\nglobalmodel = dl.merge(*Vmodels)\n\n# Link the distance distribution into a global parameter \nglobalmodel = dl.link(globalmodel,P=['P_1','P_2'])\n\n# Compactness criterion for the global distance distribution\ncompactness = dl.dipolarpenalty(Pmodel=None,r=r,type='compactness')\n\n# Fit the model to the data\nresults = dl.fit(globalmodel,Vs, weights=[1,1],penalties=compactness)"
      ]
    },
    {
      "cell_type": "code",
      "execution_count": null,
      "metadata": {
        "collapsed": false
      },
      "outputs": [],
      "source": [
        "plt.figure(figsize=[10,7])\nviolet = '#4550e6'\nfor n in range(len(results.model)):\n\n    # Extract fitted dipolar signal\n    Vfit = results.model[n]\n    Vci = results.modelUncert[n].ci(95)\n\n    # Extract fitted distance distribution\n    Pfit = results.P\n    Pci95 = results.PUncert.ci(95)\n    Pci50 = results.PUncert.ci(50)\n\n    plt.subplot(2,2,2*n+1)\n    # Plot experimental data\n    plt.plot(ts[n],Vs[n],'.',color='grey',label='Data')\n    # Plot the fitted signal \n    plt.plot(ts[n],Vfit,linewidth=3,color=violet,label='Fit')\n    plt.fill_between(ts[n],Vci[:,0],Vci[:,1],color=violet,alpha=0.3)\n    plt.legend(frameon=False,loc='best')\n    plt.xlabel('Time $t$ (\u03bcs)')\n    plt.ylabel('$V(t)$ (arb.u.)')\n\n# Plot the distance distribution\nplt.subplot(122)\nplt.plot(r,Pfit,linewidth=3,label='Fit',color=violet)\nplt.fill_between(r,Pci95[:,0],Pci95[:,1],alpha=0.3,color=violet,label='95%-Conf. Inter.',linewidth=0)\nplt.fill_between(r,Pci50[:,0],Pci50[:,1],alpha=0.5,color=violet,label='50%-Conf. Inter.',linewidth=0)\nplt.legend(frameon=False,loc='best')\nplt.autoscale(enable=True, axis='both', tight=True)\nplt.xlabel('Distance $r$ (nm)')\nplt.ylabel('$P(r)$ (nm$^{-1}$)')\nplt.tight_layout()\nplt.show()"
      ]
    }
  ],
  "metadata": {
    "kernelspec": {
      "display_name": "Python 3",
      "language": "python",
      "name": "python3"
    },
    "language_info": {
      "codemirror_mode": {
        "name": "ipython",
        "version": 3
      },
      "file_extension": ".py",
      "mimetype": "text/x-python",
      "name": "python",
      "nbconvert_exporter": "python",
      "pygments_lexer": "ipython3",
      "version": "3.9.15"
    }
  },
  "nbformat": 4,
  "nbformat_minor": 0
}