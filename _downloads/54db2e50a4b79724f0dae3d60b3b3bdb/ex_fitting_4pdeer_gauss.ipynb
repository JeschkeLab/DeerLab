{
  "cells": [
    {
      "cell_type": "code",
      "execution_count": null,
      "metadata": {
        "collapsed": false
      },
      "outputs": [],
      "source": [
        "%matplotlib inline"
      ]
    },
    {
      "cell_type": "markdown",
      "metadata": {},
      "source": [
        "# Basic analysis of a 4-pulse DEER signal with a bimodal Gaussian model\n\nFit a simple 4-pulse DEER signal with a model with a bimodal Gaussian parametric \ndistribution and a homogeneous background.\n"
      ]
    },
    {
      "cell_type": "code",
      "execution_count": null,
      "metadata": {
        "collapsed": false
      },
      "outputs": [],
      "source": [
        "import numpy as np\nimport matplotlib.pyplot as plt\nimport deerlab as dl"
      ]
    },
    {
      "cell_type": "code",
      "execution_count": null,
      "metadata": {
        "collapsed": false
      },
      "outputs": [],
      "source": [
        "# File location\npath = '../data/'\nfile = 'example_4pdeer_1.DTA'\n\n# Experimental parameters\ntau1 = 0.3      # First inter-pulse delay, \u03bcs\ntau2 = 4.0      # Second inter-pulse delay, \u03bcs\ndeadtime = 0.1  # Acquisition deadtime, \u03bcs\n\n# Load the experimental data\nt,Vexp = dl.deerload(path + file)\n\n# Pre-processing\nVexp = dl.correctphase(Vexp) # Phase correction\nVexp = Vexp/np.max(Vexp)     # Rescaling (aesthetic)\nt = t + deadtime             # Account for deadtime\n\n# Distance vector\nr = np.arange(1.5,6,0.01) # nm\n\n# Construct the model\nPmodel= dl.dd_gauss2\nVmodel = dl.dipolarmodel(t,r,Pmodel, experiment=dl.ex_4pdeer(tau1,tau2, pathways=[1]))\n\n# Fit the model to the data\nresults = dl.fit(Vmodel,Vexp,reg=False)\n\n# Print results summary\nprint(results)"
      ]
    },
    {
      "cell_type": "code",
      "execution_count": null,
      "metadata": {
        "collapsed": false
      },
      "outputs": [],
      "source": [
        "# Extract fitted dipolar signal\nVfit = results.model\nVci = results.modelUncert.ci(95)\n\n# Extract fitted distance distribution\nPfit = results.evaluate(Pmodel,r)\nscale = np.trapz(Pfit,r)\nPuncert = results.propagate(Pmodel,r,lb=np.zeros_like(r))\nPfit = Pfit/scale\nPci95 = Puncert.ci(95)/scale\nPci50 = Puncert.ci(50)/scale\n\n# Extract the unmodulated contribution\nBfcn = lambda mod,conc,reftime: scale*(1-mod)*dl.bg_hom3d(t-reftime,conc,mod)\nBfit = results.evaluate(Bfcn)\nBci = results.propagate(Bfcn).ci(95)\n\nplt.figure(figsize=[6,7])\nviolet = '#4550e6'\nplt.subplot(211)\n# Plot experimental and fitted data\nplt.plot(t,Vexp,'.',color='grey',label='Data')\nplt.plot(t,Vfit,linewidth=3,color=violet,label='Fit')\nplt.fill_between(t,Vci[:,0],Vci[:,1],color=violet,alpha=0.3)\nplt.plot(t,Bfit,'--',linewidth=3,color=violet,label='Unmodulated contribution')\nplt.fill_between(t,Bci[:,0],Bci[:,1],color=violet,alpha=0.3)\nplt.legend(frameon=False,loc='best')\nplt.xlabel('Time $t$ (\u03bcs)')\nplt.ylabel('$V(t)$ (arb.u.)')\n# Plot the distance distribution\nplt.subplot(212)\nplt.plot(r,Pfit,color=violet,linewidth=3,label='Fit')\nplt.fill_between(r,Pci95[:,0],Pci95[:,1],alpha=0.3,color=violet,label='95%-Conf. Inter.',linewidth=0)\nplt.fill_between(r,Pci50[:,0],Pci50[:,1],alpha=0.5,color=violet,label='50%-Conf. Inter.',linewidth=0)\nplt.legend(frameon=False,loc='best')\nplt.autoscale(enable=True, axis='both', tight=True)\nplt.xlabel('Distance $r$ (nm)')\nplt.ylabel('$P(r)$ (nm$^{-1}$)')\nplt.tight_layout()\nplt.show()"
      ]
    }
  ],
  "metadata": {
    "kernelspec": {
      "display_name": "Python 3",
      "language": "python",
      "name": "python3"
    },
    "language_info": {
      "codemirror_mode": {
        "name": "ipython",
        "version": 3
      },
      "file_extension": ".py",
      "mimetype": "text/x-python",
      "name": "python",
      "nbconvert_exporter": "python",
      "pygments_lexer": "ipython3",
      "version": "3.9.15"
    }
  },
  "nbformat": 4,
  "nbformat_minor": 0
}