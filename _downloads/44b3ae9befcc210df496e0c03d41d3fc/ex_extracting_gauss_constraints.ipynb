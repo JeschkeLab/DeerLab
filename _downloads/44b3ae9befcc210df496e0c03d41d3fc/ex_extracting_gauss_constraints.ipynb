{
  "cells": [
    {
      "cell_type": "markdown",
      "metadata": {},
      "source": [
        "\n# Fitting Gaussians to a non-parametric distance distribution fit\n\nThis example shows how to fit multi-Gaussian model to a non-parametric distance\ndistribution calculated from Tikhonov regularization.  \n"
      ]
    },
    {
      "cell_type": "code",
      "execution_count": null,
      "metadata": {
        "collapsed": false
      },
      "outputs": [],
      "source": [
        "# Import the required libraries\nimport numpy as np\nimport matplotlib.pyplot as plt\nimport deerlab as dl"
      ]
    },
    {
      "cell_type": "code",
      "execution_count": null,
      "metadata": {
        "collapsed": false
      },
      "outputs": [],
      "source": [
        "# File location\npath = '../data/'\nfile = 'example_4pdeer_1.DTA'\n\n# Experimental parameters\ntau1 = 0.3      # First inter-pulse delay, \u03bcs\ntau2 = 4.0      # Second inter-pulse delay, \u03bcs\ntmin = 0.1      # Start time, \u03bcs\n\n# Load the experimental data\nt,Vexp = dl.deerload(path + file)\n\n# Pre-processing\nVexp = dl.correctphase(Vexp) # Phase correction\nVexp = Vexp/np.max(Vexp)     # Rescaling (aesthetic)\nt = t - t[0]                 # Account for zerotime\nt = t + tmin   \n\n# Construct the dipolar signal model\nr = np.arange(2,6,0.02)\nVmodel = dl.dipolarmodel(t,r, experiment = dl.ex_4pdeer(tau1,tau2, pathways=[1]))\n\n# Fit the model to the data\nresults = dl.fit(Vmodel,Vexp)\nresults.plot(axis=t,xlabel='Time $t$ (\u03bcs)')\nplt.show()\n\n# From the fit results, extract the distribution\nPfit = results.P\nPci50 = results.PUncert.ci(50)\nPci95 = results.PUncert.ci(95)\n\n# Select a bimodal Gaussian model for the distance distribution\nPmodel = dl.dd_gauss2\nPmodel.mean1.par0=3.5\nPmodel.mean2.par0=4.0\n\n# Fit the Gaussian model to the non-parametric distance distribution\nresults = dl.fit(Pmodel,Pfit,r)\n\n# Extract the fit results\nPGauss = results.model\nPGauss_uq = results.propagate(Pmodel,r,lb=np.zeros_like(r))\nPGauss_ci50 = PGauss_uq.ci(50)\nPGauss_ci95 = PGauss_uq.ci(95)\n\n# Print the parameters nicely\nprint(f'Gaussian components with (95%-confidence intervals):')\nprint(f'       mean1 = {results.mean1:2.2f} ({results.mean1Uncert.ci(95)[0]:2.2f}-{results.mean1Uncert.ci(95)[1]:2.2f}) nm')\nprint(f'       mean2 = {results.mean2:2.2f} ({results.mean2Uncert.ci(95)[0]:2.2f}-{results.mean2Uncert.ci(95)[1]:2.2f}) nm')\nprint(f'        std1 = {results.std1:2.2f} ({results.std1Uncert.ci(95)[0]:2.2f}-{results.std1Uncert.ci(95)[1]:2.2f}) nm')\nprint(f'        std2 = {results.std2:2.2f} ({results.std2Uncert.ci(95)[0]:2.2f}-{results.std2Uncert.ci(95)[1]:2.2f}) nm')\nprint(f'  amplitude1 = {results.amp1:2.2f} ({results.amp1Uncert.ci(95)[0]:2.2f}-{results.amp1Uncert.ci(95)[1]:2.2f})')\nprint(f'  amplitude2 = {results.amp2:2.2f} ({results.amp2Uncert.ci(95)[0]:2.2f}-{results.amp2Uncert.ci(95)[1]:2.2f})')"
      ]
    },
    {
      "cell_type": "code",
      "execution_count": null,
      "metadata": {
        "collapsed": false
      },
      "outputs": [],
      "source": [
        "# Plot the fitted constraints model on top of the non-parametric case\nviolet = '#4550e6'\nred = 'tab:red'\nplt.plot(r,Pfit,linewidth=2,label='Non-param. fit',color=violet)\nplt.fill_between(r,Pci50[:,0],Pci50[:,1],alpha=0.2,linewidth=0,color=violet)\nplt.fill_between(r,Pci95[:,0],Pci95[:,1],alpha=0.2,linewidth=0,color=violet)\nplt.plot(r,PGauss,linewidth=2,label='2-Gauss fit to non-param. fit',color=red)\nplt.fill_between(r,PGauss_ci95[:,0],PGauss_ci95[:,1],alpha=0.2,linewidth=0,color=red)\n# Formatting settings \nplt.xlabel('Distance (nm)')\nplt.ylabel('P (nm$^{-1}$)')\nplt.autoscale(enable=True, axis='both', tight=True)\nplt.legend(loc='best',frameon=False)\nplt.tight_layout()\nplt.show()"
      ]
    }
  ],
  "metadata": {
    "kernelspec": {
      "display_name": "Python 3",
      "language": "python",
      "name": "python3"
    },
    "language_info": {
      "codemirror_mode": {
        "name": "ipython",
        "version": 3
      },
      "file_extension": ".py",
      "mimetype": "text/x-python",
      "name": "python",
      "nbconvert_exporter": "python",
      "pygments_lexer": "ipython3",
      "version": "3.10.12"
    }
  },
  "nbformat": 4,
  "nbformat_minor": 0
}