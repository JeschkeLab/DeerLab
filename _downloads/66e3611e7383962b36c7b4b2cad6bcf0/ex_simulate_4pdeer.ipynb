{
  "cells": [
    {
      "cell_type": "markdown",
      "metadata": {},
      "source": [
        "\n# Simulating a three-pathway 4-pulse DEER signal\n\nAn example on how to simulate a 4-pulse DEER dipolar signal,\nincluding secondary pathways like the \"2+1\" contribution. This\nexample uses a Gaussian distance distibution.\n"
      ]
    },
    {
      "cell_type": "code",
      "execution_count": null,
      "metadata": {
        "collapsed": false
      },
      "outputs": [],
      "source": [
        "# Import the required libraries\nimport numpy as np\nimport matplotlib.pyplot as plt\nimport deerlab as dl"
      ]
    },
    {
      "cell_type": "code",
      "execution_count": null,
      "metadata": {
        "collapsed": false
      },
      "outputs": [],
      "source": [
        "# Simulation parameters\ntau1, tau2 = 0.5, 4.5   # Inter-pulse time delays, \u03bcs\ntmin = 0.3              # Start time, \u03bcs\n\u0394t = 0.008              # Time increment, \u03bcs \n\nrmean = 4.0             # Mean distance, nm\nrstd = 0.3              # Distance standard deviation, nm\n\u0394r = 0.05               # Distance increment, nm\nrmin, rmax = 1.5, 6     # Range of the distance vector, nm \n\nconc = 50               # Spin concentration, \u03bcM\nlam1 = 0.40             # Amplitude of main contribution \nlam23 = 0.02            # Amplitude of the \"2+1\" contributions\nV0 = 1                  # Overall signal amplitude\n\n# Time vector\ntmax = tau1+tau2\nt = np.arange(tmin, tmax, \u0394t)\n# Distance vector \nr = np.arange(rmin, rmax, \u0394r)\n\n# Experiment model\nexperiment = dl.ex_4pdeer(tau1, tau2, pathways=[1,2,3])\n\n# Construct the dipolar signal model\nVmodel = dl.dipolarmodel(t, r, Pmodel=dl.dd_gauss, experiment=experiment) \n\n# Simulate the signal with orientation selection\nreftime1, reftime2, reftime3 = experiment.reftimes(tau1, tau2)\nVsim = Vmodel(mean=rmean, std=rstd, conc=conc, scale=V0, lam1=lam1, lam2=lam23, lam3=lam23, reftime1=reftime1, reftime2=reftime2, reftime3=reftime3)\n\n# Scaled background (for plotting)\nVinter = V0*(1-lam1-2*lam23)*dl.bg_hom3d(t-reftime1,conc,lam1)*dl.bg_hom3d(t-reftime2,conc,lam23)*dl.bg_hom3d(t-reftime3,conc,lam23)\n\n# Plot the simulated signal\nviolet = '#4550e6'\nplt.figure(figsize=[4,3])\nplt.plot(t, Vsim, lw=2, label='V(t)', color=violet)\nplt.plot(t, Vinter, '--', color=violet, lw=2, label='(1-\u03bb)$V_{inter}$')\nplt.legend()\nplt.xlabel('Time (\u03bcs)')\nplt.ylabel('V(t)')\nplt.tight_layout()\nplt.show()"
      ]
    }
  ],
  "metadata": {
    "kernelspec": {
      "display_name": "Python 3",
      "language": "python",
      "name": "python3"
    },
    "language_info": {
      "codemirror_mode": {
        "name": "ipython",
        "version": 3
      },
      "file_extension": ".py",
      "mimetype": "text/x-python",
      "name": "python",
      "nbconvert_exporter": "python",
      "pygments_lexer": "ipython3",
      "version": "3.10.12"
    }
  },
  "nbformat": 4,
  "nbformat_minor": 0
}