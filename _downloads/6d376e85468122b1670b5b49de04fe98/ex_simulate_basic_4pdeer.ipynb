{
  "cells": [
    {
      "cell_type": "markdown",
      "metadata": {},
      "source": [
        "\n# Simulating a 4-pulse DEER signal\n\nAn example on how to simulate a basic 4-pulse DEER dipolar signal, with the main\ndipolar pathway (i.e. without other contributions such as 2+1). This example\nuses a Gaussian distance distribution.\n"
      ]
    },
    {
      "cell_type": "code",
      "execution_count": null,
      "metadata": {
        "collapsed": false
      },
      "outputs": [],
      "source": [
        "# Import the required libraries\nimport numpy as np\nimport matplotlib.pyplot as plt\nimport deerlab as dl"
      ]
    },
    {
      "cell_type": "code",
      "execution_count": null,
      "metadata": {
        "collapsed": false
      },
      "outputs": [],
      "source": [
        "# Simulation parameters\ntau1, tau2 = 0.5, 2.5 # Inter-pulse delays, \u00b5s\ntmin = 0.4            # Start time, \u03bcs\n\u0394t = 0.008            # Time increment, \u03bcs \n\nrmean = 3.0           # Mean distance, nm\nrstd = 0.2            # Distance standard deviation, nm\nrmin, rmax = 1.5, 6   # Range of the distance vector, nm \n\u0394r = 0.05             # Distance increment, nm\n\nconc = 50             # Spin concentration, \u03bcM\nlam = 0.40            # Modulation depth\nV0 = 1                # Overall echo amplitude\n\n# Time vector\ntmax = tau1+tau2\nt = np.arange(tmin, tmax, \u0394t)\n\n# Distance vector \nr = np.arange(rmin, rmax, \u0394r)\n\n# Construct the 4-pulse DEER model\nVmodel = dl.dipolarmodel(t, r, Pmodel=dl.dd_gauss)\n\n# Simulate the signal with orientation selection\nVsim = Vmodel(mean=rmean, std=rstd, conc=conc, scale=V0, mod=lam, reftime=tau1)\n\n# Scaled background (for plotting)\nVinter = V0*(1-lam)*dl.bg_hom3d(t-tau1, conc, lam)\n\n# Plot the simulated signal\nviolet = '#4550e6'\nplt.figure(figsize=[4,3])\nplt.plot(t, Vsim, color=violet, lw=2, label='V(t)')\nplt.plot(t, Vinter, '--', color=violet, lw=2, label='(1-\u03bb)$V_{inter}$')\nplt.legend()\nplt.xlabel('Time (\u03bcs)')\nplt.ylabel('V(t)')\nplt.tight_layout()\nplt.show()"
      ]
    }
  ],
  "metadata": {
    "kernelspec": {
      "display_name": "Python 3",
      "language": "python",
      "name": "python3"
    },
    "language_info": {
      "codemirror_mode": {
        "name": "ipython",
        "version": 3
      },
      "file_extension": ".py",
      "mimetype": "text/x-python",
      "name": "python",
      "nbconvert_exporter": "python",
      "pygments_lexer": "ipython3",
      "version": "3.10.12"
    }
  },
  "nbformat": 4,
  "nbformat_minor": 0
}