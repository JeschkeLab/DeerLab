{
  "cells": [
    {
      "cell_type": "code",
      "execution_count": null,
      "metadata": {
        "collapsed": false
      },
      "outputs": [],
      "source": [
        "%matplotlib inline"
      ]
    },
    {
      "cell_type": "markdown",
      "metadata": {},
      "source": [
        "\n# Simulating a single-pathway 4-pulse DEER signal\n\nAn example on how to simulate a single-pathway 4-pulse DEER dipolar signal.  \n\nSpecifically, we simulate a single-pathway 4-pulse DEER dipolar signal arising from \na Gaussian distance distribution\n"
      ]
    },
    {
      "cell_type": "code",
      "execution_count": null,
      "metadata": {
        "collapsed": false
      },
      "outputs": [],
      "source": [
        "# Import the required libraries\nimport numpy as np\nimport matplotlib.pyplot as plt\nimport deerlab as dl\nviolet = '#4550e6'"
      ]
    },
    {
      "cell_type": "code",
      "execution_count": null,
      "metadata": {
        "collapsed": false
      },
      "outputs": [],
      "source": [
        "# Simulation parameters\nreftime = 0.5       # Refocusing time/Zero-time\ntmax = 3            # Trace length, \u03bcs\nmod = 0.40          # Modulation depth\nconc = 50           # Spin concentration, \u03bcs\nrmean = 3.0         # Mean distance, nm\nrstd = 0.2          # Distance standard deviation, nm\n\u0394r = 0.05           # Distance resolution, nm\nrmin,rmax = 1.5,6   # Range of the distance vector, nm \n\u0394t = 0.008          # Time resolution, \u03bcs \ndeadtime = 0.3      # Acquisition deadtime, \u03bcs\nVamp = 1            # Overall echo amplitude\n\n# Experimental time vector\nt = np.arange(deadtime,tmax,\u0394t)\n# Distance vector \nr = np.arange(rmin,rmax,\u0394r)\n\n# Construct the dipolar signal model\nVmodel = dl.dipolarmodel(t,r,Pmodel=dl.dd_gauss) \n\n# Simulate the signal with orientation selection\nVsim = Vmodel(mean=rmean, std=rstd, conc=conc, scale=Vamp, mod=mod, reftime=reftime)\n\n# Plot the simulated signal\nplt.figure(figsize=[4,3])\nplt.plot(t,Vsim, color=violet,lw=2,label='V(t)')\nplt.plot(t,Vamp*(1-mod)*dl.bg_hom3d(t,conc,mod),'--',color=violet,lw=2,label='(1-\u03bb)$V_{inter}$')\nplt.legend()\nplt.xlabel('Time (\u03bcs)')\nplt.ylabel('V(t)')\nplt.tight_layout()\nplt.show()"
      ]
    }
  ],
  "metadata": {
    "kernelspec": {
      "display_name": "Python 3",
      "language": "python",
      "name": "python3"
    },
    "language_info": {
      "codemirror_mode": {
        "name": "ipython",
        "version": 3
      },
      "file_extension": ".py",
      "mimetype": "text/x-python",
      "name": "python",
      "nbconvert_exporter": "python",
      "pygments_lexer": "ipython3",
      "version": "3.9.16"
    }
  },
  "nbformat": 4,
  "nbformat_minor": 0
}