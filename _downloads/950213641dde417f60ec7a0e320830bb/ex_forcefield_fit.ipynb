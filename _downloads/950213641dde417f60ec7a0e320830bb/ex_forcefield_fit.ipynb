{
  "cells": [
    {
      "cell_type": "code",
      "execution_count": null,
      "metadata": {
        "collapsed": false
      },
      "outputs": [],
      "source": [
        "%matplotlib inline"
      ]
    },
    {
      "cell_type": "markdown",
      "metadata": {},
      "source": [
        "\n# Fit a polynomial force field to a dipolar signal \n\nThis example shows how to extract a force fields (modelled as a polynomial function)\nfrom a dipolar signal. \n"
      ]
    },
    {
      "cell_type": "code",
      "execution_count": null,
      "metadata": {
        "collapsed": false
      },
      "outputs": [],
      "source": [
        "# Import required libraries\nimport numpy as np\nimport matplotlib.pyplot as plt\nimport deerlab as dl"
      ]
    },
    {
      "cell_type": "code",
      "execution_count": null,
      "metadata": {
        "collapsed": false
      },
      "outputs": [],
      "source": [
        "# Constants\nR = 8.314            # universal gas constant, J/mol/K\nT = 298              # Temperature for Boltzmann inversion (K)\nkcal2J = 4.1868e3    # Conversion of kilocalories to J\nthermal = R*T/kcal2J # Thermal energy in kcal/mol, (most force fields use this unit)\n\n# Define the distance vector\nr = np.linspace(2,6,300)\n\n# Define the force field function (here modelled as a 3rd order polyomial)\ndef forcefield_energy(c0,c1,c2,c3):\n    # Evaluate polynomial model for the force-field energy\n    energy = np.polyval([c3,c2,c1,c0],r)\n    # Shift to zero energy for the minimum\n    energy += abs(energy.min())\n    return energy\n\ndef forcefield_P(c0,c1,c2,c3):\n    # Compute the energy \n    energy = forcefield_energy(c0,c1,c2,c3)\n    # Boltzmann distribution\n    Pr = np.exp(-energy/thermal)\n    # Ensure a probability density distribution\n    Pr /= np.trapz(Pr,r)\n    return Pr\n\n# File location\npath = '../data/'\nfile = 'example_4pdeer_4.DTA'\n\n# Experimental parameters\ntau1 = 0.3      # First inter-pulse delay, \u03bcs\ntau2 = 5.0      # Second inter-pulse delay, \u03bcs\ndeadtime = 0.1  # Acquisition deadtime, \u03bcs\n\n# Load the experimental data\nt,Vexp = dl.deerload(path + file)\n\n# Pre-processing\nVexp = dl.correctphase(Vexp) # Phase correction\nVexp = Vexp/np.max(Vexp)     # Rescaling (aesthetic)\nt = t + deadtime             # Account for deadtime\n\n# Construct the energy and distance distribution models\nforcefield_energymodel = dl.Model(forcefield_energy)\nforcefield_Pmodel = dl.Model(forcefield_P)\n\n# Set boundaries and initial conditions\nforcefield_Pmodel.c1.set(lb=-4,  ub=1, par0=0) \nforcefield_Pmodel.c2.set(lb=-4,  ub=1, par0=0)\nforcefield_Pmodel.c3.set(lb=-4,  ub=1, par0=0) \nforcefield_Pmodel.c0.set(lb=-4,  ub=1, par0=0) \n\n# Construct the dipolar signal model\nVmodel = dl.dipolarmodel(t,r,Pmodel=forcefield_Pmodel,Bmodel=dl.bg_hom3d,experiment=dl.ex_4pdeer(tau1,tau2,pathways=[1]))\n\n# Fit the model to the data\nresults = dl.fit(Vmodel,Vexp)\n\nresults.plot(axis=t, xlabel='Time $t$ (\u03bcs)')\nplt.show()"
      ]
    },
    {
      "cell_type": "code",
      "execution_count": null,
      "metadata": {
        "collapsed": false
      },
      "outputs": [],
      "source": [
        "# Evaluate the models at the fitted parameters\nPfit = forcefield_Pmodel(results.c0,results.c1,results.c2,results.c3)\nenergy = forcefield_energymodel(results.c0,results.c1,results.c2,results.c3)\n\n# Propagate the fit uncertainty to the models\nPuq = results.propagate(forcefield_Pmodel, lb=np.zeros_like(r))\nenergyuq = results.propagate(forcefield_energymodel, lb=np.zeros_like(r))\n\n# Plot the results\nfig, ax1 = plt.subplots()\n\ncolor = 'tab:red'\nax1.plot(r, energy, color=color)\nax1.fill_between(r,energyuq.ci(95)[:,0],energyuq.ci(95)[:,1],alpha=0.3,color=color)\nax1.tick_params(axis='y', labelcolor=color)\nax1.set_ylabel('Energy (kcal/mol)', color=color)  # we already handled the x-label with ax1\nax1.set_xlabel('Distance $r$ (nm)')\n\nax2 = ax1.twinx()  # instantiate a second axes that shares the same x-axis\n\ncolor = 'tab:blue'\nax2.plot(r, Pfit, color=color)\nax2.fill_between(r,Puq.ci(95)[:,0],Puq.ci(95)[:,1],alpha=0.3,color=color)\nax2.tick_params(axis='y', labelcolor=color)\nax2.set_ylabel('P(r) (nm$^{-1}$)', color=color)\nax2.grid(None)\n\nax1.autoscale(enable=True, axis='both', tight=True)\nax2.autoscale(enable=True, axis='both', tight=True)\nfig.tight_layout()  # otherwise the right y-label is slightly clipped\nplt.show()"
      ]
    }
  ],
  "metadata": {
    "kernelspec": {
      "display_name": "Python 3",
      "language": "python",
      "name": "python3"
    },
    "language_info": {
      "codemirror_mode": {
        "name": "ipython",
        "version": 3
      },
      "file_extension": ".py",
      "mimetype": "text/x-python",
      "name": "python",
      "nbconvert_exporter": "python",
      "pygments_lexer": "ipython3",
      "version": "3.9.15"
    }
  },
  "nbformat": 4,
  "nbformat_minor": 0
}