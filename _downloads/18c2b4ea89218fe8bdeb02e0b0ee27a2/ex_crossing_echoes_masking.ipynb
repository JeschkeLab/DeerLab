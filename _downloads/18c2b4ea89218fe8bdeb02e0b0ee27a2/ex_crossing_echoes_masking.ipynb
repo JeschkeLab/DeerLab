{
  "cells": [
    {
      "cell_type": "markdown",
      "metadata": {},
      "source": [
        "# Analyzing data with crossing echoes robustly\n\nHow to deal with the presence of crossing echoes in the data. Crossing echoes appear\nas spurious peaks/oscillations in the data that cannot be accounted for by the model \nconstructed by dipolarmodel(). Their presence will thus distort the analysis and lead \nto incorrect results. \nTo be able to analyze such datasets robustly DeerLab allows the definition of masks, i.e. \na list of True (keep data point) and False (ignore data point) values, to remove their influence\nduring the fit procedure without the need to remove them from the data or the model. \nFor crossing echoes, we can define such a mask robustly since their presence also affect the imaginary\npart of the data, and we know that the imaginary part of the data should only contain white noise. \nWe can define a mask that ignores those data points whose imaginary part value exceeds several multiples\nof the expected noise level in the data. \nOnce such a mask is constructed, the analysis can be executed as usual without any additional modifications.   \n"
      ]
    },
    {
      "cell_type": "code",
      "execution_count": null,
      "metadata": {
        "collapsed": false
      },
      "outputs": [],
      "source": [
        "# Import the required libraries\nimport numpy as np\nimport matplotlib.pyplot as plt\nimport deerlab as dl\nviolet = '#4550e6'"
      ]
    },
    {
      "cell_type": "code",
      "execution_count": null,
      "metadata": {
        "collapsed": false
      },
      "outputs": [],
      "source": [
        "# Load the experimental data\nt,Vexp = dl.deerload('../data/example_4pdeer_5.DTA')\n\nt *= 1e3 # convert from ms to us\n\n# Experimental parameters\ntau1 = 0.5  # First inter-pulse time delay, \u03bcs\ntau2 = 4.5  # Second inter-pulse time delay, \u03bcs\ntmin = 0.3    # Start time, \u03bcs\n\nt = t - t[0]                     # Account for zerotime\nt = t + tmin    \n\n# Plot the real part of the raw data\nplt.figure(figsize=[6,4])\nplt.plot(t,Vexp.real,'.--',color=violet)\nplt.xlabel('Time $t$ (\u03bcs)')\nplt.ylabel('$V(t)$ (arb.u.)')\nplt.show()"
      ]
    },
    {
      "cell_type": "code",
      "execution_count": null,
      "metadata": {
        "collapsed": false
      },
      "outputs": [],
      "source": [
        "# Perform phase correction, returning the phase-corrected imaginary part\nVexp,Vim,_ = dl.correctphase(Vexp, full_output=True, offset=True)\n\n# Plot the phase corrected data\nplt.figure(figsize=[6,6])\nplt.subplot(211)\nplt.plot(t,Vexp,'.--',lw=2,color=violet)\nplt.xlabel('Time $t$ (\u03bcs)')\nplt.ylabel('$V(t)$ (arb.u.)')\nplt.title('Phase-corrected real part')\nplt.subplot(212)\nplt.plot(t,Vim,'.--',lw=2,color='tab:red')\nplt.xlabel('Time $t$ (\u03bcs)')\nplt.ylabel('$V(t)$ (arb.u.)')\nplt.title('Phase-corrected imaginary part')\nplt.tight_layout()\nplt.show()"
      ]
    },
    {
      "cell_type": "code",
      "execution_count": null,
      "metadata": {
        "collapsed": false
      },
      "outputs": [],
      "source": [
        "# Estimate the noise level in the data\nnoiselevel = dl.noiselevel(Vim)\n# Define the threshold for crossing echo outliers (some multiple of the noise level)\nmasking_threshold = 4*noiselevel\n\n# Construct the mask for the data, exclude data points\n# corresponding to the crossing echoes\nmask = abs(Vim)<masking_threshold # Mask[i]=True implies that the i-th data point is valid \n\n# (Optional) \n# Mask out also two points around those already masked out to ensure\n# all influence of the crossing echoes is removed\nn = 2\nmask[np.where(~mask)[0]-n] = False\nmask[np.where(~mask)[0]+n] = False\n\n# Plot the masking\nplt.figure(figsize=[6,6])\nplt.subplot(211)\nplt.plot(t[mask],Vexp[mask],'.',lw=2,color=violet,label='Data (valid)')\nplt.plot(t[~mask],Vexp[~mask],'.',lw=2,color='grey',label='Data (invalid)')\nplt.xlabel('Time $t$ (\u03bcs)')\nplt.ylabel('$V(t)$ (arb.u.)')\nplt.title('Phase-corrected real part')\nplt.legend(frameon=False,loc='best')\nplt.subplot(212)\nplt.plot(t[mask],Vim[mask],'.',lw=2,color='tab:red',label='Data (valid)')\nplt.plot(t[~mask],Vim[~mask],'.',lw=2,color='grey',label='Data (invalid)')\nplt.xlabel('Time $t$ (\u03bcs)')\nplt.ylabel('$V(t)$ (arb.u.)')\nplt.title('Phase-corrected imaginary part')\nplt.hlines(masking_threshold,min(t),max(t),color='k',linestyles='dashed',label='Threshold')\nplt.hlines(-masking_threshold,min(t),max(t),color='k',linestyles='dashed')\nplt.legend(frameon=False,loc='best')\nplt.tight_layout()\nplt.show()"
      ]
    },
    {
      "cell_type": "code",
      "execution_count": null,
      "metadata": {
        "collapsed": false
      },
      "outputs": [],
      "source": [
        "# Distance vector\nr = np.arange(2,6,0.05) # nm\n\n# Construct the dipolar signal model \nexperiment = dl.ex_4pdeer(tau1,tau2,pathways=[1,2,3])\nVmodel = dl.dipolarmodel(t,r,experiment=experiment)\n\n# Analyze the data while ignoring the crossing echoes\nresults = dl.fit(Vmodel,Vexp, mask=mask, noiselvl=noiselevel)\n\n# Display summary of fit results \nprint(results)"
      ]
    },
    {
      "cell_type": "code",
      "execution_count": null,
      "metadata": {
        "collapsed": false
      },
      "outputs": [],
      "source": [
        "# Extract fitted dipolar signal\nVfit = results.model\n\n# Extract fitted distance distribution\nPfit = results.P\nPci95 = results.PUncert.ci(95)\nPci50 = results.PUncert.ci(50)\n\n# Extract the unmodulated contribution\ndef Vunmodfcn(lam1,lam2,lam3,reftime1,reftime2,reftime3,conc):\n    Lam0 = results.P_scale*(1-lam1-lam2-lam3)\n    Vunmod = Lam0*dl.bg_hom3d(t-reftime1,conc,lam1)\n    Vunmod *= dl.bg_hom3d(t-reftime2,conc,lam2)\n    Vunmod *= dl.bg_hom3d(t-reftime3,conc,lam3)\n    return Vunmod  \nBfit = results.evaluate(Vunmodfcn)\n\nplt.figure(figsize=[6,7])\nviolet = '#4550e6'\nplt.subplot(211)\n# Plot experimental and fitted data\nplt.plot(t,Vexp,'.',color='grey',label='Data')\nplt.plot(t,Vfit,linewidth=3,color=violet,label='Fit')\nplt.plot(t,Bfit,'--',linewidth=3,color=violet,label='Unmodulated contribution')\nplt.legend(frameon=False,loc='best')\nplt.xlabel('Time $t$ (\u03bcs)')\nplt.ylabel('$V(t)$ (arb.u.)')\n# Plot the distance distribution\nplt.subplot(212)\nplt.plot(r,Pfit,color=violet,linewidth=3,label='Fit')\nplt.fill_between(r,Pci95[:,0],Pci95[:,1],alpha=0.3,color=violet,label='95%-Conf. Inter.',linewidth=0)\nplt.fill_between(r,Pci50[:,0],Pci50[:,1],alpha=0.5,color=violet,label='50%-Conf. Inter.',linewidth=0)\nplt.legend(frameon=False,loc='best')\nplt.autoscale(enable=True, axis='both', tight=True)\nplt.xlabel('Distance $r$ (nm)')\nplt.ylabel('$P(r)$ (nm$^{-1}$)')\nplt.tight_layout()\nplt.show()"
      ]
    }
  ],
  "metadata": {
    "kernelspec": {
      "display_name": "Python 3",
      "language": "python",
      "name": "python3"
    },
    "language_info": {
      "codemirror_mode": {
        "name": "ipython",
        "version": 3
      },
      "file_extension": ".py",
      "mimetype": "text/x-python",
      "name": "python",
      "nbconvert_exporter": "python",
      "pygments_lexer": "ipython3",
      "version": "3.10.13"
    }
  },
  "nbformat": 4,
  "nbformat_minor": 0
}