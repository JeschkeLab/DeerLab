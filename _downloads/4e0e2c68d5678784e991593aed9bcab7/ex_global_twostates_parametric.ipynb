{
  "cells": [
    {
      "cell_type": "code",
      "execution_count": null,
      "metadata": {
        "collapsed": false
      },
      "outputs": [],
      "source": [
        "%matplotlib inline"
      ]
    },
    {
      "cell_type": "markdown",
      "metadata": {},
      "source": [
        "\n# Global fitting of a two-state model to a series of DEER traces\n\nThis example shows how to fit a two-state model to a series DEER traces. Each of the\ntwo states, A and B, has a one-Gauss distance distribution, and each DEER trace comes\nfrom a sample with different fractional populations of the two states. This could be\nthe consequence of a chemical or conformational equilibrium. The model contains global\nparameters needed for all samples traces (the distribution parameters) and local\nparameters needed for individual samples traces (the fractional populations).\n"
      ]
    },
    {
      "cell_type": "code",
      "execution_count": null,
      "metadata": {
        "collapsed": false
      },
      "outputs": [],
      "source": [
        "import numpy as np\nimport matplotlib.pyplot as plt\nimport deerlab as dl\n\ngreen = \"#3cb4c6\"\nred = \"#f84862\"\nviolet = \"#4550e6\"\n\n# File location\npath = \"../data/\"\nfiles = [\n    \"example_twostate_data_1.DTA\",\n    \"example_twostate_data_2.DTA\",\n    \"example_twostate_data_3.DTA\",\n]\n\n# Experimental parameters\ntau1 = 0.4  # First inter-pulse delay, \u03bcs\ntau2 = 4.5  # Second inter-pulse delay, \u03bcs\ndeadtime = 0.2  # Acquisition deadtime, \u03bcs\n\nVmodels, ts, Vexps = [], [], []\nfor file in files:\n\n    # Load the experimental data\n    t, Vexp = dl.deerload(path + file)\n\n    # Pre-processing\n    Vexp = dl.correctphase(Vexp)  # Phase correction\n    Vexp = Vexp / np.max(Vexp)  # Rescaling (aesthetic)\n    t = t + deadtime  # Account for deadtime\n\n    # Put the datasets into lists\n    ts.append(t)\n    Vexps.append(Vexp)\n\n# Define the distance vector\nr = np.linspace(2, 7, 200)\n\n# Define a custom distance distribution model function\ndef Ptwostates(meanA, meanB, stdA, stdB, fracA):\n    PA = fracA * dl.dd_gauss(r, meanA, stdA)\n    PB = (1 - fracA) * dl.dd_gauss(r, meanB, stdB)\n    P = PA + PB\n    P /= np.trapz(P)\n    return P\n\n\n# Construct the model object\nPmodel = dl.Model(Ptwostates)\n# Set the parameter boundaries and start values\nPmodel.meanA.set(lb=2, ub=7, par0=5)\nPmodel.meanB.set(lb=2, ub=7, par0=3)\nPmodel.stdA.set(lb=0.05, ub=0.8, par0=0.1)\nPmodel.stdB.set(lb=0.05, ub=0.8, par0=0.1)\nPmodel.fracA.set(lb=0, ub=1, par0=0.5)\n\n# Generate the individual dipolar signal models\nNsignals = len(Vexps)\nVmodels = [[] for _ in range(Nsignals)]\nfor n in range(Nsignals):\n    Vmodels[n] = dl.dipolarmodel(ts[n], r, Pmodel)\n    Vmodels[n].reftime.set(lb=0, ub=0.5, par0=0.2)\n\n# Combine the individual signal models into a single global models\nglobalmodel = dl.merge(*Vmodels)\n# Link the global parameters toghether\nglobalmodel = dl.link(\n    globalmodel,\n    meanA=[\"meanA_1\", \"meanA_2\", \"meanA_3\"],\n    meanB=[\"meanB_1\", \"meanB_2\", \"meanB_3\"],\n    stdA=[\"stdA_1\", \"stdA_2\", \"stdA_3\"],\n    stdB=[\"stdB_1\", \"stdB_2\", \"stdB_3\"],\n)\n\n# Fit the datasets to the model globally\nfit = dl.fit(globalmodel, Vexps)\n\n# Extract the fitted fractions\nfracAfit = [fit.fracA_1, fit.fracA_2, fit.fracA_3]\nfracBfit = [1 - fit.fracA_1, 1 - fit.fracA_2, 1 - fit.fracA_3]\n\nplt.figure(figsize=(10, 8))\nfor i in range(Nsignals):\n\n    # Get the fitted signals and confidence bands\n    Vfit = fit.model[i]\n\n    # Get the fitted distributions of the two states\n    PAfit = fracAfit[i] * dl.dd_gauss(r, fit.meanA, fit.stdA)\n    PBfit = fracBfit[i] * dl.dd_gauss(r, fit.meanB, fit.stdB)\n\n    # Plot\n    plt.subplot(Nsignals, 2, 2 * i + 1)\n    plt.plot(ts[i], Vexps[i], \".\", color=\"grey\")\n    plt.plot(ts[i], Vfit, color=violet)\n    plt.xlabel(\"Time t (\u00b5s)\")\n    plt.ylabel(f\"V$_{i+1}$(t) (arb.u)\")\n    plt.legend([\"Data\", \"Fit\"], loc=\"best\", frameon=False)\n\n    plt.subplot(Nsignals, 2, 2 * i + 2)\n    plt.fill(r, PAfit, alpha=0.6, color=green)\n    plt.fill(r, PBfit, alpha=0.6, color=red)\n    plt.xlabel(\"Distance r (nm)\")\n    plt.ylabel(\"P(r) (nm$^{-1}$)\")\n    plt.legend([\"State A\", \"State B\"], loc=\"best\", frameon=False)\n    plt.autoscale(enable=True, axis=\"x\", tight=True)\n\nplt.tight_layout()\nplt.show()"
      ]
    }
  ],
  "metadata": {
    "kernelspec": {
      "display_name": "Python 3",
      "language": "python",
      "name": "python3"
    },
    "language_info": {
      "codemirror_mode": {
        "name": "ipython",
        "version": 3
      },
      "file_extension": ".py",
      "mimetype": "text/x-python",
      "name": "python",
      "nbconvert_exporter": "python",
      "pygments_lexer": "ipython3",
      "version": "3.9.16"
    }
  },
  "nbformat": 4,
  "nbformat_minor": 0
}