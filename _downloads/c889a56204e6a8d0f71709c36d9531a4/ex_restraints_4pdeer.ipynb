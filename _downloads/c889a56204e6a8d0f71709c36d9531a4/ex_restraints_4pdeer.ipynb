{
  "cells": [
    {
      "cell_type": "code",
      "execution_count": null,
      "metadata": {
        "collapsed": false
      },
      "outputs": [],
      "source": [
        "%matplotlib inline"
      ]
    },
    {
      "cell_type": "markdown",
      "metadata": {},
      "source": [
        "# Distance restraints from 4-pulse DEER data, non-parametric distribution\n\nHow to fit a simple 4-pulse DEER signal and derive distance restraints from \nthe fitted non-parametric distance distribution.\n\nOnce we have a fit of the distance distribution we can obtain distance\nrestraints in the form of different statistical descriptors such as the mean distance\nand standard deviation of distances. While we could calculate this manually, DeerLab \nprovides a convenient function ``diststats`` which will automatically compute\nthese for you and even propagate the uncertainty in the distributions to those \nvalues to get confidence intervals on the restraints. \n"
      ]
    },
    {
      "cell_type": "code",
      "execution_count": null,
      "metadata": {
        "collapsed": false
      },
      "outputs": [],
      "source": [
        "import numpy as np\nimport matplotlib.pyplot as plt\nimport deerlab as dl"
      ]
    },
    {
      "cell_type": "code",
      "execution_count": null,
      "metadata": {
        "collapsed": false
      },
      "outputs": [],
      "source": [
        "# File location\npath = '../data/'\nfile = 'example_4pdeer_1.DTA'\n\n# Experimental parameters\ntau1 = 0.3      # First inter-pulse delay, \u03bcs\ntau2 = 4.0      # Second inter-pulse delay, \u03bcs\ndeadtime = 0.1  # Acquisition deadtime, \u03bcs\n\n# Load the experimental data\nt,Vexp = dl.deerload(path + file)\n\n# Pre-processing\nVexp = dl.correctphase(Vexp) # Phase correction\nVexp = Vexp/np.max(Vexp)     # Rescaling (aesthetic)\nt = t + deadtime             # Account for deadtime\n\n# Distance vector\nr = np.arange(2,6,0.05) # nm\n\n# Construct dipolar model\nVmodel = dl.dipolarmodel(t,r, experiment=dl.ex_4pdeer(tau1,tau2, pathways=[1]))\n\n# Fit the model to the data\nfit = dl.fit(Vmodel,Vexp)\n\n# Get printed summary of all statistical descriptors available with confidence intervals\nestimators,uq = dl.diststats(r,fit.P,fit.PUncert,verbose=True)\n\n# Get the mean distance\nrmean = estimators['mean']\nrmean_ci = uq['mean'].ci(95)\n# Get the median distance\nrmedian = estimators['median']\nrmedian_ci = uq['median'].ci(95)\n# Get the standard deviation of distances\nr_std = estimators['std']\nr_std_ci = uq['std'].ci(95)\n\n# Print out the results\nprint(f'Mean distance: {rmean:.3f} ({rmean_ci[0]:.3f}-{rmean_ci[1]:.3f}) nm')\nprint(f'Standard deviation: {r_std:.3f} ({r_std_ci[0]:.3f}-{r_std_ci[1]:.3f}) nm')"
      ]
    },
    {
      "cell_type": "code",
      "execution_count": null,
      "metadata": {
        "collapsed": false
      },
      "outputs": [],
      "source": [
        "# For display, you can plot the mean distance with its confidence intervals without further calculations.\n\n# Plot distribution and confidence bands\nviolet = '#4550e6'\nPci95 = fit.PUncert.ci(95)/np.trapz(fit.P,r)\nPci50 = fit.PUncert.ci(50)/np.trapz(fit.P,r)\nplt.plot(r,fit.P/np.trapz(fit.P,r),linewidth=2,color=violet,label='Distance distribution fit')\nplt.fill_between(r,Pci95[:,0],Pci95[:,1],color=violet,alpha=0.3)\nplt.fill_between(r,Pci50[:,0],Pci50[:,1],color=violet,alpha=0.4)\n\n# Plot mean distance and confidence interval\nplt.vlines(rmean,0,max(Pci95[:,1]),color='tab:red',linestyles='dotted',linewidth=3,label='Mean distance')\nplt.vlines(rmedian,0,max(Pci95[:,1]),color='tab:green',linestyles='dotted',linewidth=3,label='Median distance')\nplt.fill_between(rmean_ci,0,max(Pci95[:,1]),color='tab:red',alpha=0.3,linewidth=0)\nplt.fill_between(rmedian_ci,0,max(Pci95[:,1]),color='tab:green',alpha=0.3,linewidth=0)\n\nplt.legend(frameon=False,loc='best')\n\nplt.ylim([0,max(Pci95[:,1])])\nplt.xlabel('Distance $r$ (nm)')\nplt.ylabel('P(r) (nm$^{-1}$)')\nplt.autoscale(enable=True, axis='both', tight=True)\nplt.tight_layout() \nplt.show()"
      ]
    }
  ],
  "metadata": {
    "kernelspec": {
      "display_name": "Python 3",
      "language": "python",
      "name": "python3"
    },
    "language_info": {
      "codemirror_mode": {
        "name": "ipython",
        "version": 3
      },
      "file_extension": ".py",
      "mimetype": "text/x-python",
      "name": "python",
      "nbconvert_exporter": "python",
      "pygments_lexer": "ipython3",
      "version": "3.9.13"
    }
  },
  "nbformat": 4,
  "nbformat_minor": 0
}