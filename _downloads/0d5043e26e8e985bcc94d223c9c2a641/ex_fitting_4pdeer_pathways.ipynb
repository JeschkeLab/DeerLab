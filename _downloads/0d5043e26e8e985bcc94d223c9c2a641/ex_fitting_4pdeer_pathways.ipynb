{
  "cells": [
    {
      "cell_type": "markdown",
      "metadata": {},
      "source": [
        "# Analysis of a 4-pulse DEER signal with multiple dipolar pathways\n\nFit a 4-pulse DEER with multiple dipolar pathways and display the individual pathway contributions. \n"
      ]
    },
    {
      "cell_type": "code",
      "execution_count": null,
      "metadata": {
        "collapsed": false
      },
      "outputs": [],
      "source": [
        "import numpy as np\nimport matplotlib.pyplot as plt\nimport deerlab as dl"
      ]
    },
    {
      "cell_type": "code",
      "execution_count": null,
      "metadata": {
        "collapsed": false
      },
      "outputs": [],
      "source": [
        "# File location\npath = '../data/'\nfile = 'example_4pdeer_2.DTA'\n\n# Experimental parameters\ntau1 = 0.5      # First inter-pulse delay, \u03bcs\ntau2 = 3.5      # Second inter-pulse delay, \u03bcs\ntmin = 0.1  # Start time, \u03bcs\n\n# Load the experimental data\nt,Vexp = dl.deerload(path + file)\n\n# Pre-processing\nVexp = dl.correctphase(Vexp) # Phase correction\nVexp = Vexp/np.max(Vexp)     # Rescaling (aesthetic)\nt = t - t[0]                     # Account for zerotime\nt = t + tmin    \n# Distance vector\nr = np.arange(2.5,5.5,0.025) # nm\n\n# Construct the model\nexperiment = dl.ex_4pdeer(tau1,tau2, pathways=[1,2,3])\nVmodel = dl.dipolarmodel(t,r,experiment=experiment)\n\n# Fit the model to the data\nresults = dl.fit(Vmodel,Vexp)\n\n# Print results summary\nprint(results)"
      ]
    },
    {
      "cell_type": "code",
      "execution_count": null,
      "metadata": {
        "collapsed": false
      },
      "outputs": [],
      "source": [
        "# Extract fitted dipolar signal\nVfit = results.model\n\n# Extract fitted distance distribution\nPfit = results.P\nPci95 = results.PUncert.ci(95)\nPci50 = results.PUncert.ci(50)\n\nplt.figure(figsize=[8,6])\nviolet = '#4550e6'\ngreen = '#3cb4c6' \nred = '#f84862'\nplt.subplot(221)\n# Plot experimental data\nplt.plot(t,Vexp,'.',color='grey',label='Data')\n# Plot the fitted signal \nplt.plot(t,Vfit,linewidth=3,color=violet,label='Fit')\nplt.legend(frameon=False,loc='best')\nplt.xlabel('Time $t$ (\u03bcs)')\nplt.ylabel('$V(t)$ (arb.u.)')\n\nplt.subplot(222)\nlams = [results.lam1, results.lam2, results.lam3]\nreftimes = [results.reftime1, results.reftime2, results.reftime3]\ncolors= ['tab:blue',green, red] \nVinter = results.P_scale*(1-np.sum(lams))*np.prod([dl.bg_hom3d(t-reftime,results.conc,lam) for lam,reftime in zip(lams,reftimes)],axis=0)\nfor n,(lam,reftime,color) in enumerate(zip(lams,reftimes,colors)):\n    Vpath = (1-np.sum(lams) + lam*dl.dipolarkernel(t-reftime,r)@Pfit)*Vinter\n    plt.plot(t,Vpath,linewidth=3,label=f'Pathway #{n+1}',color=color)\nplt.legend(frameon=False,loc='best')\nplt.xlabel('Time $t$ (\u03bcs)')\nplt.ylabel('$V(t)$ (arb.u.)')\n\n# Plot the distance distribution\nplt.subplot(212)\nplt.plot(r,Pfit,linewidth=3,color=violet,label='Fit')\nplt.fill_between(r,Pci95[:,0],Pci95[:,1],alpha=0.3,color=violet,label='95%-Conf. Inter.',linewidth=0)\nplt.fill_between(r,Pci50[:,0],Pci50[:,1],alpha=0.5,color=violet,label='50%-Conf. Inter.',linewidth=0)\nplt.legend(frameon=False,loc='best')\nplt.autoscale(enable=True, axis='both', tight=True)\nplt.xlabel('Distance $r$ (nm)')\nplt.ylabel('$P(r)$ (nm$^{-1}$)')\n\nplt.tight_layout()\nplt.show()"
      ]
    }
  ],
  "metadata": {
    "kernelspec": {
      "display_name": "Python 3",
      "language": "python",
      "name": "python3"
    },
    "language_info": {
      "codemirror_mode": {
        "name": "ipython",
        "version": 3
      },
      "file_extension": ".py",
      "mimetype": "text/x-python",
      "name": "python",
      "nbconvert_exporter": "python",
      "pygments_lexer": "ipython3",
      "version": "3.10.13"
    }
  },
  "nbformat": 4,
  "nbformat_minor": 0
}